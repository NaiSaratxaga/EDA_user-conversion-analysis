{
 "cells": [
  {
   "cell_type": "markdown",
   "metadata": {},
   "source": [
    "# Notebook para hacer pruebas "
   ]
  },
  {
   "cell_type": "code",
   "execution_count": null,
   "metadata": {},
   "outputs": [],
   "source": [
    "# Anotaciones\n",
    "\n",
    "# La falta de interacción durante el trial de 7 días es directamente proporcional con la cancelación.\n",
    "\n",
    "# Scatter plot para visualizar la relación??\n",
    "\n",
    "# Convertir columnas necesarias(si es necesario) \n",
    "\n",
    "# Filtrar los datos relevantes\n",
    "# - 'ENGAGED_WITH_PAIRING' indica si hubo interacción (1 = Sí, 0 = No)\n",
    "# - 'TRIAL_CONVERTED' indica si el usuario convirtió tras el trial (1 = Sí, 0 = No -> Canceló)\n",
    "\n",
    "# renombrar las columnas??"
   ]
  }
 ],
 "metadata": {
  "kernelspec": {
   "display_name": "Python 3",
   "language": "python",
   "name": "python3"
  },
  "language_info": {
   "codemirror_mode": {
    "name": "ipython",
    "version": 3
   },
   "file_extension": ".py",
   "mimetype": "text/x-python",
   "name": "python",
   "nbconvert_exporter": "python",
   "pygments_lexer": "ipython3",
   "version": "3.11.9"
  }
 },
 "nbformat": 4,
 "nbformat_minor": 2
}
