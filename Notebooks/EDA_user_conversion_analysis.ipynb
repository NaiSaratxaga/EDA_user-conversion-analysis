{
 "cells": [
  {
   "cell_type": "markdown",
   "metadata": {},
   "source": [
    "# INFORMACIÓN DEL PROYECTO"
   ]
  },
  {
   "cell_type": "markdown",
   "metadata": {},
   "source": [
    "## El viaje del usuario: ¿Qué factores influyen en la conversión de trial a premium?\n",
    "### Análisis sobre las razones que hay detrás de la conversión en un modelo de suscripción\n"
   ]
  },
  {
   "cell_type": "markdown",
   "metadata": {},
   "source": [
    "## Introducción"
   ]
  },
  {
   "cell_type": "markdown",
   "metadata": {},
   "source": [
    "### Análisis del Comportamiento de los Usuarios\n",
    "\n",
    "Este proyecto tiene como finalidad analizar el comportamiento de los usuarios de una app, especialmente en relación con el abandono al finalizar la prueba gratuita de 7 días.\n",
    "\n",
    "A través de técnicas de **Análisis Exploratorio de Datos (EDA)**, se investigarán las tasas de retención y las razones subyacentes al abandono en este punto. Este análisis proporcionará información valiosa para:\n",
    "\n",
    "- Mejorar las estrategias de retención.\n",
    "- Optimizar la experiencia del usuario.\n",
    "- Reducir la tasa de abandono.\n",
    "\n",
    "### Objetivos\n",
    "\n",
    "El principal objetivo es incrementar la tasa de conversión de prueba a suscripción premium, aumentando la permanencia de los usuarios y optimizando las métricas clave de la aplicación. Para ello, se busca:\n",
    "\n",
    "Identificar patrones de comportamiento que diferencian a los usuarios que se convierten de aquellos que abandonan.\n",
    "\n",
    "Detectar puntos críticos dentro del viaje del usuario que influyen en la decisión de cancelar o continuar.\n",
    "\n",
    "Proponer estrategias basadas en datos para mejorar la conversión y fidelización."
   ]
  },
  {
   "cell_type": "markdown",
   "metadata": {},
   "source": [
    "### Hipótesis"
   ]
  },
  {
   "cell_type": "markdown",
   "metadata": {},
   "source": [
    "- Examinar si los usuarios que seleccionan diferentes razones para usar la app tienen tasas de conversión distintas.\n",
    "\n",
    "- Los usuarios que completan todas las pantallas de incorporación (ONBOARDING COMPLETED) tienen una tasa de conversión a una suscripción de pago (TRIAL_CONVERTED) más alta que aquellos que no completan el onboarding\n",
    "\n",
    "- La falta de interacción durante el trial de 7 días es directamente proporcional con la cancelación.\n",
    "\n",
    "- Los usuarios que se registran desde ciertos países tienen una tasa de conversión más alta a la suscripción de pago (TRIAL_CONVERTED) que aquellos que se registran desde otros países.(Evaluar si las tasas de conversión son consistentes en todos los países, identificando posibles diferencias regionales)\n",
    "\n",
    "-  Los usuarios que provienen de canales de marketing orgánicos tienen mayor probabilidad de conversión.\n",
    "\n",
    "- Los usuarios que suben una foto (PHOTO_UPLOADED) tienen una tasa de conversión más alta a suscripción de pago que aquellos que no suben una foto\n",
    "\n",
    "- Los usuarios que han abierto y respondido una conversación (CONVERSATION_OPENED y CONVERSATION_ANSWERED) tienen una tasa de conversión más alta a una suscripción de pago (TRIAL_CONVERTED) en comparación con aquellos que no han abierto ni respondido conversaciones\n",
    "\n",
    "- Día de la semana con mayor número de descargas de la aplicación.\n",
    "\n",
    "- Análisis de los usuarios según su país de procedencia y los canales que utilizan para acceder a la aplicación.\n",
    "\n",
    "***"
   ]
  },
  {
   "cell_type": "code",
   "execution_count": 1,
   "metadata": {},
   "outputs": [],
   "source": [
    "# 1. Importa pandas, pyplot y seaborn\n",
    "\n",
    "import matplotlib.pyplot as plt\n",
    "import numpy as np\n",
    "import pandas as pd\n",
    "import seaborn as sns\n",
    "from datetime import datetime\n",
    "from scipy.stats import chi2_contingency\n",
    "import plotly.express as px\n",
    "import folium\n",
    "from folium.plugins import HeatMap\n",
    "import geopandas as gpd\n"
   ]
  },
  {
   "cell_type": "code",
   "execution_count": 2,
   "metadata": {},
   "outputs": [
    {
     "data": {
      "application/vnd.microsoft.datawrangler.viewer.v0+json": {
       "columns": [
        {
         "name": "index",
         "rawType": "int64",
         "type": "integer"
        },
        {
         "name": "USER ID",
         "rawType": "object",
         "type": "string"
        },
        {
         "name": "FIRST SEEN TIMESTAMP",
         "rawType": "object",
         "type": "string"
        },
        {
         "name": "COUNTRY",
         "rawType": "object",
         "type": "string"
        },
        {
         "name": "ATTRIBUTION CHANNEL",
         "rawType": "object",
         "type": "string"
        },
        {
         "name": "SIGNUP",
         "rawType": "int64",
         "type": "integer"
        },
        {
         "name": "ENGAGED_WITH_PAIRING",
         "rawType": "int64",
         "type": "integer"
        },
        {
         "name": "CODE_SHARED",
         "rawType": "int64",
         "type": "integer"
        },
        {
         "name": "PAIRED_SECOND",
         "rawType": "int64",
         "type": "integer"
        },
        {
         "name": "PAIRED_INITIATOR",
         "rawType": "int64",
         "type": "integer"
        },
        {
         "name": "ONBOARDING_COMPLETED",
         "rawType": "int64",
         "type": "integer"
        },
        {
         "name": "CONVERSATION_OPENED",
         "rawType": "int64",
         "type": "integer"
        },
        {
         "name": "CONVERSATION_ANSWERED",
         "rawType": "int64",
         "type": "integer"
        },
        {
         "name": "PHOTO_UPLOADED",
         "rawType": "int64",
         "type": "integer"
        },
        {
         "name": "TRIAL_STARTED",
         "rawType": "int64",
         "type": "integer"
        },
        {
         "name": "TRIAL_CONVERTED",
         "rawType": "int64",
         "type": "integer"
        },
        {
         "name": "COMMUNICATION_REASON",
         "rawType": "int64",
         "type": "integer"
        },
        {
         "name": "CONFLICT_REASON",
         "rawType": "int64",
         "type": "integer"
        },
        {
         "name": "CONNECTION_REASON",
         "rawType": "int64",
         "type": "integer"
        },
        {
         "name": "FAMILY_AND_FRIENDS_REASON",
         "rawType": "int64",
         "type": "integer"
        },
        {
         "name": "FUN_AND_EXCITEMENT_REASON",
         "rawType": "int64",
         "type": "integer"
        },
        {
         "name": "HOME_AND_WORK_REASON",
         "rawType": "int64",
         "type": "integer"
        },
        {
         "name": "MEANING_AND_GROWTH_REASON",
         "rawType": "int64",
         "type": "integer"
        },
        {
         "name": "MONEY_AND_FINANCES_REASON",
         "rawType": "int64",
         "type": "integer"
        },
        {
         "name": "SEX_AND_INTIMACY_REASON",
         "rawType": "int64",
         "type": "integer"
        }
       ],
       "conversionMethod": "pd.DataFrame",
       "ref": "e1e90682-80a3-402d-ae36-ffa135296cf0",
       "rows": [
        [
         "0",
         "gnm6qjiAY2e7sBejh7EiQBpWZBJ3",
         "2024-03-04T03:07:29.201Z",
         "United States",
         "Organic",
         "1",
         "0",
         "1",
         "0",
         "1",
         "1",
         "1",
         "1",
         "1",
         "0",
         "0",
         "1",
         "0",
         "1",
         "0",
         "1",
         "0",
         "0",
         "1",
         "1"
        ],
        [
         "1",
         "Wlt9juveBehuBlKKVWgR3qkEVV52",
         "2024-03-04T02:31:26.549Z",
         "United States",
         "Google Ads",
         "1",
         "0",
         "0",
         "0",
         "0",
         "1",
         "1",
         "1",
         "0",
         "0",
         "0",
         "1",
         "1",
         "1",
         "0",
         "1",
         "0",
         "1",
         "0",
         "0"
        ],
        [
         "2",
         "ir27ubxNhoYwQwXO0eK6zYq9mAJ3",
         "2024-03-04T06:16:04.500Z",
         "United States",
         "Google Ads",
         "1",
         "0",
         "1",
         "0",
         "1",
         "1",
         "1",
         "1",
         "1",
         "0",
         "0",
         "1",
         "0",
         "1",
         "0",
         "1",
         "0",
         "0",
         "0",
         "1"
        ],
        [
         "3",
         "x837S9H2ufbRZXGUZ2jUmZq2oLf2",
         "2024-03-04T11:00:36.658Z",
         "Australia",
         "Organic",
         "1",
         "1",
         "1",
         "0",
         "1",
         "1",
         "1",
         "1",
         "1",
         "1",
         "0",
         "0",
         "0",
         "0",
         "0",
         "0",
         "0",
         "0",
         "0",
         "1"
        ],
        [
         "4",
         "wDisQWuU6cNbgLCpV1ZaVP7VVRA2",
         "2024-03-04T12:30:44.841Z",
         "South Africa",
         "Organic",
         "1",
         "1",
         "0",
         "0",
         "0",
         "0",
         "0",
         "0",
         "0",
         "0",
         "0",
         "0",
         "0",
         "0",
         "0",
         "0",
         "0",
         "0",
         "0",
         "0"
        ],
        [
         "5",
         "k8IWZ3VwTIaEqILj3ePg7TLuDEZ2",
         "2024-03-04T17:00:54.886Z",
         "India",
         "Facebook",
         "1",
         "1",
         "0",
         "1",
         "0",
         "1",
         "1",
         "0",
         "0",
         "0",
         "0",
         "0",
         "0",
         "1",
         "0",
         "1",
         "0",
         "0",
         "0",
         "1"
        ],
        [
         "6",
         "WKlRRjTdpzTIz2bCXj0RIivySrI2",
         "2024-03-04T19:29:33.983Z",
         "United States",
         "Partner Invite",
         "1",
         "0",
         "0",
         "1",
         "0",
         "1",
         "1",
         "1",
         "1",
         "0",
         "0",
         "1",
         "1",
         "1",
         "0",
         "1",
         "0",
         "1",
         "0",
         "1"
        ],
        [
         "7",
         "0SlCvGLq4mVqve3nU7WEkfCDubs1",
         "2024-03-04T20:27:01.622Z",
         "United States",
         "Google Ads",
         "1",
         "1",
         "0",
         "1",
         "0",
         "1",
         "0",
         "0",
         "1",
         "0",
         "0",
         "1",
         "1",
         "1",
         "1",
         "1",
         "1",
         "1",
         "1",
         "1"
        ],
        [
         "8",
         "6knvGK9DYjPbD9VpANbchFHTXv53",
         "2024-03-01T01:39:37.279Z",
         "United States",
         "Partner Invite",
         "1",
         "0",
         "0",
         "1",
         "0",
         "1",
         "1",
         "1",
         "1",
         "0",
         "0",
         "0",
         "0",
         "0",
         "0",
         "1",
         "1",
         "0",
         "1",
         "1"
        ],
        [
         "9",
         "W7YwC7ndsJZBZZF4qExoFwld7Lq1",
         "2024-03-01T03:21:31.434Z",
         "United States",
         "Apple Search Ads",
         "1",
         "0",
         "1",
         "0",
         "1",
         "1",
         "1",
         "1",
         "1",
         "0",
         "0",
         "1",
         "1",
         "1",
         "0",
         "0",
         "0",
         "1",
         "0",
         "0"
        ],
        [
         "10",
         "2HibTrvGuEMS80gSaUQVg3I9fBm2",
         "2024-03-01T01:00:07.208Z",
         "United States",
         "Organic",
         "1",
         "0",
         "0",
         "1",
         "0",
         "1",
         "1",
         "1",
         "1",
         "0",
         "0",
         "0",
         "0",
         "1",
         "0",
         "0",
         "0",
         "0",
         "0",
         "0"
        ],
        [
         "11",
         "V2lH5YW2dCN2NoQOjiQrHbAwtRb2",
         "2024-03-04T20:55:15.887Z",
         "United States",
         "Google Ads",
         "1",
         "1",
         "0",
         "0",
         "0",
         "0",
         "0",
         "0",
         "0",
         "0",
         "0",
         "1",
         "1",
         "0",
         "0",
         "0",
         "1",
         "0",
         "1",
         "0"
        ],
        [
         "12",
         "7dMPhd4A3aUcvCMgXMnlNTHyjYu2",
         "2024-03-01T03:57:18.502Z",
         "United States",
         "Facebook",
         "1",
         "0",
         "1",
         "0",
         "1",
         "1",
         "1",
         "1",
         "1",
         "0",
         "0",
         "1",
         "0",
         "1",
         "0",
         "0",
         "1",
         "1",
         "1",
         "0"
        ],
        [
         "13",
         "obbztRyHkpMcRIIAyCPVFXAcmwp2",
         "2024-03-01T19:10:39.620Z",
         "United States",
         "Partner Invite",
         "1",
         "0",
         "0",
         "1",
         "0",
         "1",
         "0",
         "0",
         "1",
         "0",
         "0",
         "1",
         "1",
         "1",
         "1",
         "1",
         "0",
         "1",
         "0",
         "1"
        ],
        [
         "14",
         "nyXK83eSaQWcLH8Aowfy1MmEM333",
         "2024-03-01T16:23:18.436Z",
         "United States",
         "Partner Invite",
         "1",
         "0",
         "0",
         "1",
         "0",
         "1",
         "1",
         "1",
         "1",
         "0",
         "0",
         "1",
         "1",
         "1",
         "0",
         "0",
         "0",
         "0",
         "0",
         "0"
        ],
        [
         "15",
         "KhckNPKSCGdfrPTMXWQhDYIhh2g1",
         "2024-03-01T10:22:05.957Z",
         "United States",
         "Partner Invite",
         "1",
         "0",
         "0",
         "1",
         "0",
         "1",
         "1",
         "1",
         "0",
         "0",
         "0",
         "1",
         "0",
         "0",
         "0",
         "0",
         "0",
         "0",
         "0",
         "1"
        ],
        [
         "16",
         "7EWV7cfS32S6ovXPLxcdhaXTH1q2",
         "2024-03-01T05:57:50.958Z",
         "United States",
         "Organic",
         "1",
         "0",
         "0",
         "0",
         "0",
         "0",
         "0",
         "0",
         "0",
         "0",
         "0",
         "1",
         "1",
         "1",
         "1",
         "1",
         "1",
         "1",
         "0",
         "0"
        ],
        [
         "17",
         "FOaw556qeTTS3CdjJDklqN3e43H2",
         "2024-03-01T15:59:58.881Z",
         "United States",
         "Partner Invite",
         "1",
         "0",
         "0",
         "1",
         "0",
         "1",
         "1",
         "1",
         "1",
         "0",
         "0",
         "1",
         "1",
         "1",
         "0",
         "0",
         "0",
         "1",
         "0",
         "1"
        ],
        [
         "18",
         "MJxYXKsYIhVc31J6Dxoc7XVl1tg2",
         "2024-03-01T21:50:46.020Z",
         "United States",
         "Organic",
         "1",
         "0",
         "1",
         "0",
         "0",
         "0",
         "0",
         "0",
         "0",
         "0",
         "0",
         "1",
         "1",
         "0",
         "0",
         "1",
         "0",
         "0",
         "0",
         "1"
        ],
        [
         "19",
         "fJV9FKnK5ZV6ABUowDPGU1RQoi42",
         "2024-03-01T04:36:44.333Z",
         "Canada",
         "Organic",
         "1",
         "0",
         "0",
         "0",
         "0",
         "1",
         "0",
         "0",
         "0",
         "0",
         "0",
         "0",
         "0",
         "1",
         "0",
         "0",
         "1",
         "1",
         "1",
         "0"
        ],
        [
         "20",
         "WGxJWJGnZaNUCmQZbFtLbrl2U782",
         "2024-03-01T13:43:12.441Z",
         "United States",
         "Organic",
         "1",
         "0",
         "0",
         "0",
         "0",
         "1",
         "0",
         "0",
         "0",
         "0",
         "0",
         "0",
         "0",
         "0",
         "0",
         "1",
         "0",
         "0",
         "0",
         "0"
        ],
        [
         "21",
         "p7a8JqZT18VDpA33xRZS6hKpCpg2",
         "2024-03-01T14:25:00.346Z",
         "United States",
         "Partner Invite",
         "1",
         "0",
         "0",
         "1",
         "0",
         "1",
         "0",
         "0",
         "1",
         "0",
         "0",
         "1",
         "1",
         "1",
         "1",
         "1",
         "0",
         "0",
         "0",
         "0"
        ],
        [
         "22",
         "ynpC7q2kZ6dLU7tKurK3vont8602",
         "2024-03-01T21:55:27.403Z",
         "Australia",
         "Partner Invite",
         "1",
         "0",
         "0",
         "1",
         "0",
         "1",
         "1",
         "1",
         "1",
         "0",
         "0",
         "0",
         "0",
         "1",
         "0",
         "1",
         "0",
         "0",
         "0",
         "1"
        ],
        [
         "23",
         "t124igBooggeVEiYJnzwusZWgAZ2",
         "2024-03-03T01:16:16.241Z",
         "United States",
         "Google Ads",
         "1",
         "0",
         "1",
         "0",
         "0",
         "1",
         "0",
         "0",
         "1",
         "0",
         "0",
         "1",
         "1",
         "1",
         "1",
         "0",
         "1",
         "0",
         "0",
         "1"
        ],
        [
         "24",
         "Nas9ibl1Osh5pFJ3T3UIaCHytAU2",
         "2024-03-03T19:34:09.766Z",
         "United States",
         "Partner Invite",
         "1",
         "0",
         "0",
         "1",
         "0",
         "1",
         "1",
         "1",
         "1",
         "0",
         "0",
         "0",
         "0",
         "0",
         "0",
         "1",
         "0",
         "0",
         "0",
         "0"
        ],
        [
         "25",
         "NbFHrMJ1ujQtAOHbwKEWmpkZKme2",
         "2024-03-02T22:30:09.866Z",
         "United States",
         "Partner Invite",
         "1",
         "0",
         "0",
         "1",
         "0",
         "1",
         "1",
         "1",
         "1",
         "0",
         "0",
         "1",
         "0",
         "1",
         "0",
         "0",
         "0",
         "1",
         "0",
         "0"
        ],
        [
         "26",
         "FMkJdiNmOMNGTFz8zwNQT4Z6IxW2",
         "2024-03-03T08:38:07.328Z",
         "United States",
         "Partner Invite",
         "1",
         "0",
         "0",
         "1",
         "0",
         "1",
         "1",
         "1",
         "1",
         "0",
         "0",
         "1",
         "1",
         "1",
         "0",
         "1",
         "1",
         "1",
         "0",
         "0"
        ],
        [
         "27",
         "pW5ykCJ2uUNAI4gJ2sNpXY5CKRh2",
         "2024-03-03T09:06:40.829Z",
         "United States",
         "Apple Search Ads",
         "1",
         "0",
         "0",
         "1",
         "0",
         "1",
         "1",
         "1",
         "1",
         "0",
         "0",
         "1",
         "1",
         "1",
         "0",
         "1",
         "0",
         "1",
         "0",
         "1"
        ],
        [
         "28",
         "rR0oVaBpakMMO7X7HsuxMd0AzHs2",
         "2024-03-03T09:20:54.304Z",
         "Germany",
         "Organic",
         "1",
         "0",
         "1",
         "0",
         "1",
         "1",
         "1",
         "1",
         "1",
         "0",
         "0",
         "1",
         "1",
         "1",
         "1",
         "1",
         "1",
         "1",
         "1",
         "1"
        ],
        [
         "29",
         "O9nFiNM3JjTWdDfIGw5JgXgpKD12",
         "2024-03-03T15:45:42.981Z",
         "United States",
         "Organic",
         "1",
         "0",
         "1",
         "0",
         "1",
         "1",
         "0",
         "0",
         "1",
         "0",
         "0",
         "1",
         "1",
         "1",
         "1",
         "1",
         "1",
         "1",
         "1",
         "1"
        ],
        [
         "30",
         "cclRUBisfxYKp7KZX2dmW7vZk4w2",
         "2024-03-03T13:21:23.569Z",
         "United States",
         "Organic",
         "1",
         "0",
         "0",
         "0",
         "0",
         "1",
         "1",
         "1",
         "1",
         "0",
         "0",
         "1",
         "1",
         "1",
         "1",
         "1",
         "1",
         "1",
         "1",
         "1"
        ],
        [
         "31",
         "nzzNBjVB70O30OsXPwSIvvi9Kr33",
         "2024-03-03T14:19:11.443Z",
         "United Kingdom",
         "Facebook",
         "1",
         "0",
         "1",
         "0",
         "1",
         "1",
         "1",
         "1",
         "1",
         "1",
         "0",
         "1",
         "1",
         "1",
         "1",
         "1",
         "1",
         "1",
         "1",
         "1"
        ],
        [
         "32",
         "lN5eNFRg1dWsRmitEsezl22kNr52",
         "2024-03-03T17:34:06.684Z",
         "United States",
         "Google Ads",
         "1",
         "0",
         "1",
         "0",
         "1",
         "1",
         "1",
         "1",
         "1",
         "1",
         "1",
         "1",
         "1",
         "1",
         "1",
         "1",
         "1",
         "1",
         "1",
         "1"
        ],
        [
         "33",
         "97AkAfjwLlbRmuXRWIq7djavzNw1",
         "2024-03-03T14:21:23.833Z",
         "United States",
         "Partner Invite",
         "1",
         "0",
         "0",
         "1",
         "0",
         "1",
         "1",
         "1",
         "1",
         "0",
         "0",
         "1",
         "1",
         "1",
         "0",
         "1",
         "0",
         "1",
         "0",
         "1"
        ],
        [
         "34",
         "F3NkgkJIK2bXgkJGqPa6wH3FWY23",
         "2024-03-03T20:21:56.806Z",
         "Australia",
         "Partner Invite",
         "1",
         "0",
         "0",
         "1",
         "0",
         "1",
         "1",
         "1",
         "0",
         "0",
         "0",
         "1",
         "0",
         "1",
         "0",
         "1",
         "1",
         "1",
         "1",
         "1"
        ],
        [
         "35",
         "R31bu9ch8fbCBbNxUxxfnEq3SFA3",
         "2024-03-03T20:57:25.450Z",
         "France",
         "Organic",
         "1",
         "0",
         "0",
         "0",
         "1",
         "1",
         "1",
         "1",
         "1",
         "0",
         "0",
         "1",
         "1",
         "1",
         "1",
         "1",
         "1",
         "1",
         "1",
         "1"
        ],
        [
         "36",
         "pYupRPn5FuOcyL2fN2YlRnsoi982",
         "2024-03-03T21:52:54.463Z",
         "United States",
         "Google Ads",
         "1",
         "0",
         "1",
         "0",
         "0",
         "0",
         "0",
         "0",
         "1",
         "0",
         "0",
         "0",
         "0",
         "1",
         "0",
         "1",
         "1",
         "1",
         "0",
         "1"
        ],
        [
         "37",
         "nAoQfaD6KWe9SOswDTIxMDVbYgM2",
         "2024-03-03T22:36:57.052Z",
         "United States",
         "Google Ads",
         "1",
         "0",
         "0",
         "0",
         "0",
         "0",
         "0",
         "0",
         "1",
         "0",
         "0",
         "0",
         "0",
         "0",
         "0",
         "0",
         "0",
         "0",
         "0",
         "0"
        ],
        [
         "38",
         "cqTMu3IV93aoJAQgBBickwu1SDi1",
         "2024-03-03T00:16:35.678Z",
         "Canada",
         "Organic",
         "1",
         "0",
         "0",
         "1",
         "0",
         "1",
         "1",
         "1",
         "0",
         "0",
         "0",
         "1",
         "1",
         "0",
         "0",
         "0",
         "0",
         "1",
         "0",
         "0"
        ],
        [
         "39",
         "DiucVikUBbU6gV7etye4a9X6Rdn1",
         "2024-03-03T02:03:41.561Z",
         "United States",
         "Google Ads",
         "1",
         "0",
         "0",
         "1",
         "0",
         "1",
         "1",
         "1",
         "0",
         "0",
         "0",
         "1",
         "1",
         "1",
         "1",
         "1",
         "1",
         "1",
         "1",
         "1"
        ],
        [
         "40",
         "01oXS3PzRiZnFu2XoNelrT2YZ2x1",
         "2024-03-03T03:47:33.215Z",
         "United States",
         "Partner Invite",
         "1",
         "0",
         "0",
         "1",
         "0",
         "1",
         "1",
         "1",
         "1",
         "0",
         "0",
         "1",
         "1",
         "1",
         "1",
         "1",
         "1",
         "1",
         "1",
         "1"
        ],
        [
         "41",
         "J19twntRgnSUK4fBd6P7Z1pY1wV2",
         "2024-03-03T05:00:00.703Z",
         "Canada",
         "Organic",
         "1",
         "0",
         "0",
         "0",
         "1",
         "1",
         "1",
         "1",
         "1",
         "0",
         "0",
         "0",
         "0",
         "1",
         "0",
         "0",
         "0",
         "0",
         "0",
         "0"
        ],
        [
         "42",
         "ZVhM1ADQq1USI0I04xdZQKjSdiS2",
         "2024-03-03T01:14:02.572Z",
         "United Kingdom",
         "Organic",
         "1",
         "0",
         "1",
         "0",
         "1",
         "1",
         "1",
         "1",
         "0",
         "0",
         "0",
         "0",
         "0",
         "1",
         "0",
         "0",
         "0",
         "0",
         "0",
         "0"
        ],
        [
         "43",
         "PI9FbUdXBQTFrNEEazy9S85us5o2",
         "2024-03-03T02:02:02.498Z",
         "United States",
         "Partner Invite",
         "1",
         "0",
         "0",
         "1",
         "0",
         "1",
         "1",
         "1",
         "0",
         "0",
         "0",
         "0",
         "1",
         "0",
         "0",
         "0",
         "0",
         "0",
         "0",
         "0"
        ],
        [
         "44",
         "bSJTaIq6X3Q7tHPdEA7l5WdDvCL2",
         "2024-03-03T02:46:15.464Z",
         "United States",
         "Partner Invite",
         "1",
         "0",
         "0",
         "1",
         "0",
         "1",
         "1",
         "1",
         "1",
         "0",
         "0",
         "1",
         "1",
         "0",
         "0",
         "1",
         "0",
         "0",
         "1",
         "1"
        ],
        [
         "45",
         "qxewMcl7BZStjtdgXAZyilJMR0j1",
         "2024-03-03T04:42:39.726Z",
         "United States",
         "Google Ads",
         "1",
         "0",
         "0",
         "0",
         "1",
         "1",
         "1",
         "1",
         "0",
         "0",
         "0",
         "1",
         "1",
         "0",
         "1",
         "0",
         "1",
         "1",
         "0",
         "0"
        ],
        [
         "46",
         "rVHa7wSCnORHWvumwAuphsNh9Kl2",
         "2024-03-03T05:51:28.241Z",
         "United States",
         "Google Ads",
         "1",
         "0",
         "1",
         "0",
         "1",
         "1",
         "1",
         "1",
         "1",
         "0",
         "0",
         "1",
         "1",
         "1",
         "1",
         "1",
         "1",
         "1",
         "1",
         "1"
        ],
        [
         "47",
         "QBuIkznd0DWpfoxCLdTOnyyqfqq1",
         "2024-03-03T02:56:38.932Z",
         "United States",
         "Apple Search Ads",
         "1",
         "0",
         "1",
         "0",
         "0",
         "1",
         "0",
         "0",
         "1",
         "0",
         "0",
         "1",
         "1",
         "1",
         "0",
         "0",
         "0",
         "0",
         "1",
         "1"
        ],
        [
         "48",
         "fb8y8ahsN3deNkVIr03jzqDlPfr2",
         "2024-03-03T05:32:49.297Z",
         "United States",
         "Organic",
         "1",
         "0",
         "1",
         "0",
         "0",
         "1",
         "0",
         "0",
         "1",
         "0",
         "0",
         "1",
         "1",
         "1",
         "0",
         "1",
         "0",
         "0",
         "0",
         "1"
        ],
        [
         "49",
         "pqv8IciEfPV8WGD7zTVheLsa7hc2",
         "2024-03-03T05:19:42.053Z",
         "United States",
         "Google Ads",
         "1",
         "0",
         "1",
         "0",
         "1",
         "1",
         "1",
         "1",
         "1",
         "0",
         "0",
         "1",
         "1",
         "1",
         "1",
         "1",
         "1",
         "1",
         "1",
         "1"
        ]
       ],
       "shape": {
        "columns": 24,
        "rows": 40000
       }
      },
      "text/html": [
       "<div>\n",
       "<style scoped>\n",
       "    .dataframe tbody tr th:only-of-type {\n",
       "        vertical-align: middle;\n",
       "    }\n",
       "\n",
       "    .dataframe tbody tr th {\n",
       "        vertical-align: top;\n",
       "    }\n",
       "\n",
       "    .dataframe thead th {\n",
       "        text-align: right;\n",
       "    }\n",
       "</style>\n",
       "<table border=\"1\" class=\"dataframe\">\n",
       "  <thead>\n",
       "    <tr style=\"text-align: right;\">\n",
       "      <th></th>\n",
       "      <th>USER ID</th>\n",
       "      <th>FIRST SEEN TIMESTAMP</th>\n",
       "      <th>COUNTRY</th>\n",
       "      <th>ATTRIBUTION CHANNEL</th>\n",
       "      <th>SIGNUP</th>\n",
       "      <th>ENGAGED_WITH_PAIRING</th>\n",
       "      <th>CODE_SHARED</th>\n",
       "      <th>PAIRED_SECOND</th>\n",
       "      <th>PAIRED_INITIATOR</th>\n",
       "      <th>ONBOARDING_COMPLETED</th>\n",
       "      <th>...</th>\n",
       "      <th>TRIAL_CONVERTED</th>\n",
       "      <th>COMMUNICATION_REASON</th>\n",
       "      <th>CONFLICT_REASON</th>\n",
       "      <th>CONNECTION_REASON</th>\n",
       "      <th>FAMILY_AND_FRIENDS_REASON</th>\n",
       "      <th>FUN_AND_EXCITEMENT_REASON</th>\n",
       "      <th>HOME_AND_WORK_REASON</th>\n",
       "      <th>MEANING_AND_GROWTH_REASON</th>\n",
       "      <th>MONEY_AND_FINANCES_REASON</th>\n",
       "      <th>SEX_AND_INTIMACY_REASON</th>\n",
       "    </tr>\n",
       "  </thead>\n",
       "  <tbody>\n",
       "    <tr>\n",
       "      <th>0</th>\n",
       "      <td>gnm6qjiAY2e7sBejh7EiQBpWZBJ3</td>\n",
       "      <td>2024-03-04T03:07:29.201Z</td>\n",
       "      <td>United States</td>\n",
       "      <td>Organic</td>\n",
       "      <td>1</td>\n",
       "      <td>0</td>\n",
       "      <td>1</td>\n",
       "      <td>0</td>\n",
       "      <td>1</td>\n",
       "      <td>1</td>\n",
       "      <td>...</td>\n",
       "      <td>0</td>\n",
       "      <td>1</td>\n",
       "      <td>0</td>\n",
       "      <td>1</td>\n",
       "      <td>0</td>\n",
       "      <td>1</td>\n",
       "      <td>0</td>\n",
       "      <td>0</td>\n",
       "      <td>1</td>\n",
       "      <td>1</td>\n",
       "    </tr>\n",
       "    <tr>\n",
       "      <th>1</th>\n",
       "      <td>Wlt9juveBehuBlKKVWgR3qkEVV52</td>\n",
       "      <td>2024-03-04T02:31:26.549Z</td>\n",
       "      <td>United States</td>\n",
       "      <td>Google Ads</td>\n",
       "      <td>1</td>\n",
       "      <td>0</td>\n",
       "      <td>0</td>\n",
       "      <td>0</td>\n",
       "      <td>0</td>\n",
       "      <td>1</td>\n",
       "      <td>...</td>\n",
       "      <td>0</td>\n",
       "      <td>1</td>\n",
       "      <td>1</td>\n",
       "      <td>1</td>\n",
       "      <td>0</td>\n",
       "      <td>1</td>\n",
       "      <td>0</td>\n",
       "      <td>1</td>\n",
       "      <td>0</td>\n",
       "      <td>0</td>\n",
       "    </tr>\n",
       "    <tr>\n",
       "      <th>2</th>\n",
       "      <td>ir27ubxNhoYwQwXO0eK6zYq9mAJ3</td>\n",
       "      <td>2024-03-04T06:16:04.500Z</td>\n",
       "      <td>United States</td>\n",
       "      <td>Google Ads</td>\n",
       "      <td>1</td>\n",
       "      <td>0</td>\n",
       "      <td>1</td>\n",
       "      <td>0</td>\n",
       "      <td>1</td>\n",
       "      <td>1</td>\n",
       "      <td>...</td>\n",
       "      <td>0</td>\n",
       "      <td>1</td>\n",
       "      <td>0</td>\n",
       "      <td>1</td>\n",
       "      <td>0</td>\n",
       "      <td>1</td>\n",
       "      <td>0</td>\n",
       "      <td>0</td>\n",
       "      <td>0</td>\n",
       "      <td>1</td>\n",
       "    </tr>\n",
       "    <tr>\n",
       "      <th>3</th>\n",
       "      <td>x837S9H2ufbRZXGUZ2jUmZq2oLf2</td>\n",
       "      <td>2024-03-04T11:00:36.658Z</td>\n",
       "      <td>Australia</td>\n",
       "      <td>Organic</td>\n",
       "      <td>1</td>\n",
       "      <td>1</td>\n",
       "      <td>1</td>\n",
       "      <td>0</td>\n",
       "      <td>1</td>\n",
       "      <td>1</td>\n",
       "      <td>...</td>\n",
       "      <td>0</td>\n",
       "      <td>0</td>\n",
       "      <td>0</td>\n",
       "      <td>0</td>\n",
       "      <td>0</td>\n",
       "      <td>0</td>\n",
       "      <td>0</td>\n",
       "      <td>0</td>\n",
       "      <td>0</td>\n",
       "      <td>1</td>\n",
       "    </tr>\n",
       "    <tr>\n",
       "      <th>4</th>\n",
       "      <td>wDisQWuU6cNbgLCpV1ZaVP7VVRA2</td>\n",
       "      <td>2024-03-04T12:30:44.841Z</td>\n",
       "      <td>South Africa</td>\n",
       "      <td>Organic</td>\n",
       "      <td>1</td>\n",
       "      <td>1</td>\n",
       "      <td>0</td>\n",
       "      <td>0</td>\n",
       "      <td>0</td>\n",
       "      <td>0</td>\n",
       "      <td>...</td>\n",
       "      <td>0</td>\n",
       "      <td>0</td>\n",
       "      <td>0</td>\n",
       "      <td>0</td>\n",
       "      <td>0</td>\n",
       "      <td>0</td>\n",
       "      <td>0</td>\n",
       "      <td>0</td>\n",
       "      <td>0</td>\n",
       "      <td>0</td>\n",
       "    </tr>\n",
       "    <tr>\n",
       "      <th>...</th>\n",
       "      <td>...</td>\n",
       "      <td>...</td>\n",
       "      <td>...</td>\n",
       "      <td>...</td>\n",
       "      <td>...</td>\n",
       "      <td>...</td>\n",
       "      <td>...</td>\n",
       "      <td>...</td>\n",
       "      <td>...</td>\n",
       "      <td>...</td>\n",
       "      <td>...</td>\n",
       "      <td>...</td>\n",
       "      <td>...</td>\n",
       "      <td>...</td>\n",
       "      <td>...</td>\n",
       "      <td>...</td>\n",
       "      <td>...</td>\n",
       "      <td>...</td>\n",
       "      <td>...</td>\n",
       "      <td>...</td>\n",
       "      <td>...</td>\n",
       "    </tr>\n",
       "    <tr>\n",
       "      <th>39995</th>\n",
       "      <td>QtRTNhGrHROn023en6jPxaFspGK2</td>\n",
       "      <td>2024-03-12T00:37:27.297Z</td>\n",
       "      <td>United States</td>\n",
       "      <td>Google Ads</td>\n",
       "      <td>1</td>\n",
       "      <td>1</td>\n",
       "      <td>1</td>\n",
       "      <td>0</td>\n",
       "      <td>1</td>\n",
       "      <td>1</td>\n",
       "      <td>...</td>\n",
       "      <td>0</td>\n",
       "      <td>1</td>\n",
       "      <td>1</td>\n",
       "      <td>1</td>\n",
       "      <td>1</td>\n",
       "      <td>1</td>\n",
       "      <td>1</td>\n",
       "      <td>0</td>\n",
       "      <td>1</td>\n",
       "      <td>1</td>\n",
       "    </tr>\n",
       "    <tr>\n",
       "      <th>39996</th>\n",
       "      <td>5Af9WqbmihfeMUaQZAf6xF376Dd2</td>\n",
       "      <td>2024-03-12T01:00:11.388Z</td>\n",
       "      <td>United States</td>\n",
       "      <td>Partner Invite</td>\n",
       "      <td>1</td>\n",
       "      <td>0</td>\n",
       "      <td>0</td>\n",
       "      <td>1</td>\n",
       "      <td>0</td>\n",
       "      <td>1</td>\n",
       "      <td>...</td>\n",
       "      <td>0</td>\n",
       "      <td>0</td>\n",
       "      <td>0</td>\n",
       "      <td>0</td>\n",
       "      <td>0</td>\n",
       "      <td>0</td>\n",
       "      <td>0</td>\n",
       "      <td>0</td>\n",
       "      <td>1</td>\n",
       "      <td>0</td>\n",
       "    </tr>\n",
       "    <tr>\n",
       "      <th>39997</th>\n",
       "      <td>3Q7KCKy2kcSqJ1HX3wLdyu9YlAf2</td>\n",
       "      <td>2024-03-12T01:33:18.550Z</td>\n",
       "      <td>United States</td>\n",
       "      <td>Partner Invite</td>\n",
       "      <td>1</td>\n",
       "      <td>0</td>\n",
       "      <td>0</td>\n",
       "      <td>1</td>\n",
       "      <td>0</td>\n",
       "      <td>1</td>\n",
       "      <td>...</td>\n",
       "      <td>0</td>\n",
       "      <td>1</td>\n",
       "      <td>1</td>\n",
       "      <td>1</td>\n",
       "      <td>1</td>\n",
       "      <td>1</td>\n",
       "      <td>1</td>\n",
       "      <td>1</td>\n",
       "      <td>1</td>\n",
       "      <td>1</td>\n",
       "    </tr>\n",
       "    <tr>\n",
       "      <th>39998</th>\n",
       "      <td>fAOJQ2q8ahVOSoRcXXY9U3Gwm393</td>\n",
       "      <td>2024-03-12T01:47:06.804Z</td>\n",
       "      <td>United States</td>\n",
       "      <td>Google Ads</td>\n",
       "      <td>1</td>\n",
       "      <td>1</td>\n",
       "      <td>0</td>\n",
       "      <td>0</td>\n",
       "      <td>0</td>\n",
       "      <td>1</td>\n",
       "      <td>...</td>\n",
       "      <td>0</td>\n",
       "      <td>0</td>\n",
       "      <td>0</td>\n",
       "      <td>1</td>\n",
       "      <td>0</td>\n",
       "      <td>1</td>\n",
       "      <td>0</td>\n",
       "      <td>0</td>\n",
       "      <td>0</td>\n",
       "      <td>0</td>\n",
       "    </tr>\n",
       "    <tr>\n",
       "      <th>39999</th>\n",
       "      <td>PPKvTxWP3ZgK2os8gCs1MpzGmcs2</td>\n",
       "      <td>2024-03-12T02:20:35.234Z</td>\n",
       "      <td>Canada</td>\n",
       "      <td>Organic</td>\n",
       "      <td>1</td>\n",
       "      <td>1</td>\n",
       "      <td>1</td>\n",
       "      <td>0</td>\n",
       "      <td>1</td>\n",
       "      <td>1</td>\n",
       "      <td>...</td>\n",
       "      <td>0</td>\n",
       "      <td>0</td>\n",
       "      <td>0</td>\n",
       "      <td>0</td>\n",
       "      <td>0</td>\n",
       "      <td>1</td>\n",
       "      <td>0</td>\n",
       "      <td>0</td>\n",
       "      <td>0</td>\n",
       "      <td>0</td>\n",
       "    </tr>\n",
       "  </tbody>\n",
       "</table>\n",
       "<p>40000 rows × 24 columns</p>\n",
       "</div>"
      ],
      "text/plain": [
       "                            USER ID      FIRST SEEN TIMESTAMP        COUNTRY  \\\n",
       "0      gnm6qjiAY2e7sBejh7EiQBpWZBJ3  2024-03-04T03:07:29.201Z  United States   \n",
       "1      Wlt9juveBehuBlKKVWgR3qkEVV52  2024-03-04T02:31:26.549Z  United States   \n",
       "2      ir27ubxNhoYwQwXO0eK6zYq9mAJ3  2024-03-04T06:16:04.500Z  United States   \n",
       "3      x837S9H2ufbRZXGUZ2jUmZq2oLf2  2024-03-04T11:00:36.658Z      Australia   \n",
       "4      wDisQWuU6cNbgLCpV1ZaVP7VVRA2  2024-03-04T12:30:44.841Z   South Africa   \n",
       "...                             ...                       ...            ...   \n",
       "39995  QtRTNhGrHROn023en6jPxaFspGK2  2024-03-12T00:37:27.297Z  United States   \n",
       "39996  5Af9WqbmihfeMUaQZAf6xF376Dd2  2024-03-12T01:00:11.388Z  United States   \n",
       "39997  3Q7KCKy2kcSqJ1HX3wLdyu9YlAf2  2024-03-12T01:33:18.550Z  United States   \n",
       "39998  fAOJQ2q8ahVOSoRcXXY9U3Gwm393  2024-03-12T01:47:06.804Z  United States   \n",
       "39999  PPKvTxWP3ZgK2os8gCs1MpzGmcs2  2024-03-12T02:20:35.234Z         Canada   \n",
       "\n",
       "      ATTRIBUTION CHANNEL  SIGNUP  ENGAGED_WITH_PAIRING  CODE_SHARED  \\\n",
       "0                 Organic       1                     0            1   \n",
       "1              Google Ads       1                     0            0   \n",
       "2              Google Ads       1                     0            1   \n",
       "3                 Organic       1                     1            1   \n",
       "4                 Organic       1                     1            0   \n",
       "...                   ...     ...                   ...          ...   \n",
       "39995          Google Ads       1                     1            1   \n",
       "39996      Partner Invite       1                     0            0   \n",
       "39997      Partner Invite       1                     0            0   \n",
       "39998          Google Ads       1                     1            0   \n",
       "39999             Organic       1                     1            1   \n",
       "\n",
       "       PAIRED_SECOND  PAIRED_INITIATOR  ONBOARDING_COMPLETED  ...  \\\n",
       "0                  0                 1                     1  ...   \n",
       "1                  0                 0                     1  ...   \n",
       "2                  0                 1                     1  ...   \n",
       "3                  0                 1                     1  ...   \n",
       "4                  0                 0                     0  ...   \n",
       "...              ...               ...                   ...  ...   \n",
       "39995              0                 1                     1  ...   \n",
       "39996              1                 0                     1  ...   \n",
       "39997              1                 0                     1  ...   \n",
       "39998              0                 0                     1  ...   \n",
       "39999              0                 1                     1  ...   \n",
       "\n",
       "       TRIAL_CONVERTED  COMMUNICATION_REASON  CONFLICT_REASON  \\\n",
       "0                    0                     1                0   \n",
       "1                    0                     1                1   \n",
       "2                    0                     1                0   \n",
       "3                    0                     0                0   \n",
       "4                    0                     0                0   \n",
       "...                ...                   ...              ...   \n",
       "39995                0                     1                1   \n",
       "39996                0                     0                0   \n",
       "39997                0                     1                1   \n",
       "39998                0                     0                0   \n",
       "39999                0                     0                0   \n",
       "\n",
       "       CONNECTION_REASON  FAMILY_AND_FRIENDS_REASON  \\\n",
       "0                      1                          0   \n",
       "1                      1                          0   \n",
       "2                      1                          0   \n",
       "3                      0                          0   \n",
       "4                      0                          0   \n",
       "...                  ...                        ...   \n",
       "39995                  1                          1   \n",
       "39996                  0                          0   \n",
       "39997                  1                          1   \n",
       "39998                  1                          0   \n",
       "39999                  0                          0   \n",
       "\n",
       "       FUN_AND_EXCITEMENT_REASON  HOME_AND_WORK_REASON  \\\n",
       "0                              1                     0   \n",
       "1                              1                     0   \n",
       "2                              1                     0   \n",
       "3                              0                     0   \n",
       "4                              0                     0   \n",
       "...                          ...                   ...   \n",
       "39995                          1                     1   \n",
       "39996                          0                     0   \n",
       "39997                          1                     1   \n",
       "39998                          1                     0   \n",
       "39999                          1                     0   \n",
       "\n",
       "       MEANING_AND_GROWTH_REASON  MONEY_AND_FINANCES_REASON  \\\n",
       "0                              0                          1   \n",
       "1                              1                          0   \n",
       "2                              0                          0   \n",
       "3                              0                          0   \n",
       "4                              0                          0   \n",
       "...                          ...                        ...   \n",
       "39995                          0                          1   \n",
       "39996                          0                          1   \n",
       "39997                          1                          1   \n",
       "39998                          0                          0   \n",
       "39999                          0                          0   \n",
       "\n",
       "       SEX_AND_INTIMACY_REASON  \n",
       "0                            1  \n",
       "1                            0  \n",
       "2                            1  \n",
       "3                            1  \n",
       "4                            0  \n",
       "...                        ...  \n",
       "39995                        1  \n",
       "39996                        0  \n",
       "39997                        1  \n",
       "39998                        0  \n",
       "39999                        0  \n",
       "\n",
       "[40000 rows x 24 columns]"
      ]
     },
     "execution_count": 2,
     "metadata": {},
     "output_type": "execute_result"
    }
   ],
   "source": [
    "# guarda en variables los datasets y su fuente\n",
    "df = pd.read_csv(\"data/dataset_eda.csv\")\n",
    "df"
   ]
  },
  {
   "cell_type": "markdown",
   "metadata": {},
   "source": [
    "Descripción de las columnas del dataset"
   ]
  },
  {
   "cell_type": "markdown",
   "metadata": {},
   "source": [
    "- USER ID: Este es un identificador único de un usuario.\n",
    "- FIRST SEEN TIMESTAMP: Marca de tiempo en GMT de cuándo vimos por primera vez al usuario en nuestra plataforma.\n",
    "- COUNTRY: País desde el cual el usuario se registró.\n",
    "- ATTRIBUTION CHANNEL: Canal de marketing que utilizó el usuario para obtener la app. \"Partner invite\" significa que el usuario llegó por invitación de su pareja. \"Organic\" significa que el usuario no llegó a través de un canal específico, sino que fue directamente a la tienda de aplicaciones y descargó la app sin interactuar con ningún canal de marketing.\n",
    "- SIGNUP: Boolenao que indica si el usuario completó el registro.\n",
    "- ENGAGED WITH PAIRING: Booleano que indica si el usuario interactuó con la pantalla de emparejamiento durante la incorporación (emparejamiento significa el proceso de invitar a tu pareja a la app).\n",
    "- CODE_SHARED: Booleano que indica si el usuario compartió su código con su pareja.\n",
    "- PAIRED_SECOND: Booleano  que indica si el usuario se emparejó con éxito con su pareja como el invitado a la plataforma.\n",
    "- PAIRED_INITIATOR: Booleano  que indica si el usuario se emparejó con éxito con su pareja como el que invitó a su pareja a la plataforma.\n",
    "- ONBOARDING_COMPLETED: Booleano que indica si el usuario ha completado con éxito todas las pantallas de incorporación. Los usuarios no deberían poder responder ni abrir conversaciones antes de que se complete este paso.\n",
    "- CONVERSATION_OPENED: Booleano  que indica si el usuario ha abierto una conversación.\n",
    "- CONVERSATION_ANSWERED: Booleano  que indica si el usuario ha respondido una conversación.\n",
    "- PHOTO_UPLOADED: Booleano  que indica si el usuario ha subido una foto.\n",
    "- TRIAL_STARTED: Booleano  que indica si el usuario ha comenzado una prueba gratuita.\n",
    "- TRIAL_CONVERTED: Booleano  que indica si el usuario se ha convertido a una suscripción de pago después de la prueba gratuita.\n",
    "- COMMUNICATION_REASON: \n"
   ]
  },
  {
   "cell_type": "code",
   "execution_count": 3,
   "metadata": {},
   "outputs": [
    {
     "data": {
      "application/vnd.microsoft.datawrangler.viewer.v0+json": {
       "columns": [
        {
         "name": "index",
         "rawType": "int64",
         "type": "integer"
        },
        {
         "name": "USER ID",
         "rawType": "object",
         "type": "string"
        },
        {
         "name": "FIRST SEEN TIMESTAMP",
         "rawType": "object",
         "type": "string"
        },
        {
         "name": "COUNTRY",
         "rawType": "object",
         "type": "string"
        },
        {
         "name": "ATTRIBUTION CHANNEL",
         "rawType": "object",
         "type": "string"
        },
        {
         "name": "SIGNUP",
         "rawType": "int64",
         "type": "integer"
        },
        {
         "name": "ENGAGED_WITH_PAIRING",
         "rawType": "int64",
         "type": "integer"
        },
        {
         "name": "CODE_SHARED",
         "rawType": "int64",
         "type": "integer"
        },
        {
         "name": "PAIRED_SECOND",
         "rawType": "int64",
         "type": "integer"
        },
        {
         "name": "PAIRED_INITIATOR",
         "rawType": "int64",
         "type": "integer"
        },
        {
         "name": "ONBOARDING_COMPLETED",
         "rawType": "int64",
         "type": "integer"
        },
        {
         "name": "CONVERSATION_OPENED",
         "rawType": "int64",
         "type": "integer"
        },
        {
         "name": "CONVERSATION_ANSWERED",
         "rawType": "int64",
         "type": "integer"
        },
        {
         "name": "PHOTO_UPLOADED",
         "rawType": "int64",
         "type": "integer"
        },
        {
         "name": "TRIAL_STARTED",
         "rawType": "int64",
         "type": "integer"
        },
        {
         "name": "TRIAL_CONVERTED",
         "rawType": "int64",
         "type": "integer"
        },
        {
         "name": "COMMUNICATION_REASON",
         "rawType": "int64",
         "type": "integer"
        },
        {
         "name": "CONFLICT_REASON",
         "rawType": "int64",
         "type": "integer"
        },
        {
         "name": "CONNECTION_REASON",
         "rawType": "int64",
         "type": "integer"
        },
        {
         "name": "FAMILY_AND_FRIENDS_REASON",
         "rawType": "int64",
         "type": "integer"
        },
        {
         "name": "FUN_AND_EXCITEMENT_REASON",
         "rawType": "int64",
         "type": "integer"
        },
        {
         "name": "HOME_AND_WORK_REASON",
         "rawType": "int64",
         "type": "integer"
        },
        {
         "name": "MEANING_AND_GROWTH_REASON",
         "rawType": "int64",
         "type": "integer"
        },
        {
         "name": "MONEY_AND_FINANCES_REASON",
         "rawType": "int64",
         "type": "integer"
        },
        {
         "name": "SEX_AND_INTIMACY_REASON",
         "rawType": "int64",
         "type": "integer"
        }
       ],
       "conversionMethod": "pd.DataFrame",
       "ref": "5e43d12e-e143-45e3-b0fa-eb12af7cf6c1",
       "rows": [
        [
         "0",
         "gnm6qjiAY2e7sBejh7EiQBpWZBJ3",
         "2024-03-04T03:07:29.201Z",
         "United States",
         "Organic",
         "1",
         "0",
         "1",
         "0",
         "1",
         "1",
         "1",
         "1",
         "1",
         "0",
         "0",
         "1",
         "0",
         "1",
         "0",
         "1",
         "0",
         "0",
         "1",
         "1"
        ],
        [
         "1",
         "Wlt9juveBehuBlKKVWgR3qkEVV52",
         "2024-03-04T02:31:26.549Z",
         "United States",
         "Google Ads",
         "1",
         "0",
         "0",
         "0",
         "0",
         "1",
         "1",
         "1",
         "0",
         "0",
         "0",
         "1",
         "1",
         "1",
         "0",
         "1",
         "0",
         "1",
         "0",
         "0"
        ],
        [
         "2",
         "ir27ubxNhoYwQwXO0eK6zYq9mAJ3",
         "2024-03-04T06:16:04.500Z",
         "United States",
         "Google Ads",
         "1",
         "0",
         "1",
         "0",
         "1",
         "1",
         "1",
         "1",
         "1",
         "0",
         "0",
         "1",
         "0",
         "1",
         "0",
         "1",
         "0",
         "0",
         "0",
         "1"
        ],
        [
         "3",
         "x837S9H2ufbRZXGUZ2jUmZq2oLf2",
         "2024-03-04T11:00:36.658Z",
         "Australia",
         "Organic",
         "1",
         "1",
         "1",
         "0",
         "1",
         "1",
         "1",
         "1",
         "1",
         "1",
         "0",
         "0",
         "0",
         "0",
         "0",
         "0",
         "0",
         "0",
         "0",
         "1"
        ],
        [
         "4",
         "wDisQWuU6cNbgLCpV1ZaVP7VVRA2",
         "2024-03-04T12:30:44.841Z",
         "South Africa",
         "Organic",
         "1",
         "1",
         "0",
         "0",
         "0",
         "0",
         "0",
         "0",
         "0",
         "0",
         "0",
         "0",
         "0",
         "0",
         "0",
         "0",
         "0",
         "0",
         "0",
         "0"
        ]
       ],
       "shape": {
        "columns": 24,
        "rows": 5
       }
      },
      "text/html": [
       "<div>\n",
       "<style scoped>\n",
       "    .dataframe tbody tr th:only-of-type {\n",
       "        vertical-align: middle;\n",
       "    }\n",
       "\n",
       "    .dataframe tbody tr th {\n",
       "        vertical-align: top;\n",
       "    }\n",
       "\n",
       "    .dataframe thead th {\n",
       "        text-align: right;\n",
       "    }\n",
       "</style>\n",
       "<table border=\"1\" class=\"dataframe\">\n",
       "  <thead>\n",
       "    <tr style=\"text-align: right;\">\n",
       "      <th></th>\n",
       "      <th>USER ID</th>\n",
       "      <th>FIRST SEEN TIMESTAMP</th>\n",
       "      <th>COUNTRY</th>\n",
       "      <th>ATTRIBUTION CHANNEL</th>\n",
       "      <th>SIGNUP</th>\n",
       "      <th>ENGAGED_WITH_PAIRING</th>\n",
       "      <th>CODE_SHARED</th>\n",
       "      <th>PAIRED_SECOND</th>\n",
       "      <th>PAIRED_INITIATOR</th>\n",
       "      <th>ONBOARDING_COMPLETED</th>\n",
       "      <th>...</th>\n",
       "      <th>TRIAL_CONVERTED</th>\n",
       "      <th>COMMUNICATION_REASON</th>\n",
       "      <th>CONFLICT_REASON</th>\n",
       "      <th>CONNECTION_REASON</th>\n",
       "      <th>FAMILY_AND_FRIENDS_REASON</th>\n",
       "      <th>FUN_AND_EXCITEMENT_REASON</th>\n",
       "      <th>HOME_AND_WORK_REASON</th>\n",
       "      <th>MEANING_AND_GROWTH_REASON</th>\n",
       "      <th>MONEY_AND_FINANCES_REASON</th>\n",
       "      <th>SEX_AND_INTIMACY_REASON</th>\n",
       "    </tr>\n",
       "  </thead>\n",
       "  <tbody>\n",
       "    <tr>\n",
       "      <th>0</th>\n",
       "      <td>gnm6qjiAY2e7sBejh7EiQBpWZBJ3</td>\n",
       "      <td>2024-03-04T03:07:29.201Z</td>\n",
       "      <td>United States</td>\n",
       "      <td>Organic</td>\n",
       "      <td>1</td>\n",
       "      <td>0</td>\n",
       "      <td>1</td>\n",
       "      <td>0</td>\n",
       "      <td>1</td>\n",
       "      <td>1</td>\n",
       "      <td>...</td>\n",
       "      <td>0</td>\n",
       "      <td>1</td>\n",
       "      <td>0</td>\n",
       "      <td>1</td>\n",
       "      <td>0</td>\n",
       "      <td>1</td>\n",
       "      <td>0</td>\n",
       "      <td>0</td>\n",
       "      <td>1</td>\n",
       "      <td>1</td>\n",
       "    </tr>\n",
       "    <tr>\n",
       "      <th>1</th>\n",
       "      <td>Wlt9juveBehuBlKKVWgR3qkEVV52</td>\n",
       "      <td>2024-03-04T02:31:26.549Z</td>\n",
       "      <td>United States</td>\n",
       "      <td>Google Ads</td>\n",
       "      <td>1</td>\n",
       "      <td>0</td>\n",
       "      <td>0</td>\n",
       "      <td>0</td>\n",
       "      <td>0</td>\n",
       "      <td>1</td>\n",
       "      <td>...</td>\n",
       "      <td>0</td>\n",
       "      <td>1</td>\n",
       "      <td>1</td>\n",
       "      <td>1</td>\n",
       "      <td>0</td>\n",
       "      <td>1</td>\n",
       "      <td>0</td>\n",
       "      <td>1</td>\n",
       "      <td>0</td>\n",
       "      <td>0</td>\n",
       "    </tr>\n",
       "    <tr>\n",
       "      <th>2</th>\n",
       "      <td>ir27ubxNhoYwQwXO0eK6zYq9mAJ3</td>\n",
       "      <td>2024-03-04T06:16:04.500Z</td>\n",
       "      <td>United States</td>\n",
       "      <td>Google Ads</td>\n",
       "      <td>1</td>\n",
       "      <td>0</td>\n",
       "      <td>1</td>\n",
       "      <td>0</td>\n",
       "      <td>1</td>\n",
       "      <td>1</td>\n",
       "      <td>...</td>\n",
       "      <td>0</td>\n",
       "      <td>1</td>\n",
       "      <td>0</td>\n",
       "      <td>1</td>\n",
       "      <td>0</td>\n",
       "      <td>1</td>\n",
       "      <td>0</td>\n",
       "      <td>0</td>\n",
       "      <td>0</td>\n",
       "      <td>1</td>\n",
       "    </tr>\n",
       "    <tr>\n",
       "      <th>3</th>\n",
       "      <td>x837S9H2ufbRZXGUZ2jUmZq2oLf2</td>\n",
       "      <td>2024-03-04T11:00:36.658Z</td>\n",
       "      <td>Australia</td>\n",
       "      <td>Organic</td>\n",
       "      <td>1</td>\n",
       "      <td>1</td>\n",
       "      <td>1</td>\n",
       "      <td>0</td>\n",
       "      <td>1</td>\n",
       "      <td>1</td>\n",
       "      <td>...</td>\n",
       "      <td>0</td>\n",
       "      <td>0</td>\n",
       "      <td>0</td>\n",
       "      <td>0</td>\n",
       "      <td>0</td>\n",
       "      <td>0</td>\n",
       "      <td>0</td>\n",
       "      <td>0</td>\n",
       "      <td>0</td>\n",
       "      <td>1</td>\n",
       "    </tr>\n",
       "    <tr>\n",
       "      <th>4</th>\n",
       "      <td>wDisQWuU6cNbgLCpV1ZaVP7VVRA2</td>\n",
       "      <td>2024-03-04T12:30:44.841Z</td>\n",
       "      <td>South Africa</td>\n",
       "      <td>Organic</td>\n",
       "      <td>1</td>\n",
       "      <td>1</td>\n",
       "      <td>0</td>\n",
       "      <td>0</td>\n",
       "      <td>0</td>\n",
       "      <td>0</td>\n",
       "      <td>...</td>\n",
       "      <td>0</td>\n",
       "      <td>0</td>\n",
       "      <td>0</td>\n",
       "      <td>0</td>\n",
       "      <td>0</td>\n",
       "      <td>0</td>\n",
       "      <td>0</td>\n",
       "      <td>0</td>\n",
       "      <td>0</td>\n",
       "      <td>0</td>\n",
       "    </tr>\n",
       "  </tbody>\n",
       "</table>\n",
       "<p>5 rows × 24 columns</p>\n",
       "</div>"
      ],
      "text/plain": [
       "                        USER ID      FIRST SEEN TIMESTAMP        COUNTRY  \\\n",
       "0  gnm6qjiAY2e7sBejh7EiQBpWZBJ3  2024-03-04T03:07:29.201Z  United States   \n",
       "1  Wlt9juveBehuBlKKVWgR3qkEVV52  2024-03-04T02:31:26.549Z  United States   \n",
       "2  ir27ubxNhoYwQwXO0eK6zYq9mAJ3  2024-03-04T06:16:04.500Z  United States   \n",
       "3  x837S9H2ufbRZXGUZ2jUmZq2oLf2  2024-03-04T11:00:36.658Z      Australia   \n",
       "4  wDisQWuU6cNbgLCpV1ZaVP7VVRA2  2024-03-04T12:30:44.841Z   South Africa   \n",
       "\n",
       "  ATTRIBUTION CHANNEL  SIGNUP  ENGAGED_WITH_PAIRING  CODE_SHARED  \\\n",
       "0             Organic       1                     0            1   \n",
       "1          Google Ads       1                     0            0   \n",
       "2          Google Ads       1                     0            1   \n",
       "3             Organic       1                     1            1   \n",
       "4             Organic       1                     1            0   \n",
       "\n",
       "   PAIRED_SECOND  PAIRED_INITIATOR  ONBOARDING_COMPLETED  ...  \\\n",
       "0              0                 1                     1  ...   \n",
       "1              0                 0                     1  ...   \n",
       "2              0                 1                     1  ...   \n",
       "3              0                 1                     1  ...   \n",
       "4              0                 0                     0  ...   \n",
       "\n",
       "   TRIAL_CONVERTED  COMMUNICATION_REASON  CONFLICT_REASON  CONNECTION_REASON  \\\n",
       "0                0                     1                0                  1   \n",
       "1                0                     1                1                  1   \n",
       "2                0                     1                0                  1   \n",
       "3                0                     0                0                  0   \n",
       "4                0                     0                0                  0   \n",
       "\n",
       "   FAMILY_AND_FRIENDS_REASON  FUN_AND_EXCITEMENT_REASON  HOME_AND_WORK_REASON  \\\n",
       "0                          0                          1                     0   \n",
       "1                          0                          1                     0   \n",
       "2                          0                          1                     0   \n",
       "3                          0                          0                     0   \n",
       "4                          0                          0                     0   \n",
       "\n",
       "   MEANING_AND_GROWTH_REASON  MONEY_AND_FINANCES_REASON  \\\n",
       "0                          0                          1   \n",
       "1                          1                          0   \n",
       "2                          0                          0   \n",
       "3                          0                          0   \n",
       "4                          0                          0   \n",
       "\n",
       "   SEX_AND_INTIMACY_REASON  \n",
       "0                        1  \n",
       "1                        0  \n",
       "2                        1  \n",
       "3                        1  \n",
       "4                        0  \n",
       "\n",
       "[5 rows x 24 columns]"
      ]
     },
     "execution_count": 3,
     "metadata": {},
     "output_type": "execute_result"
    }
   ],
   "source": [
    "df.head()"
   ]
  },
  {
   "cell_type": "code",
   "execution_count": 4,
   "metadata": {},
   "outputs": [
    {
     "name": "stdout",
     "output_type": "stream",
     "text": [
      "<class 'pandas.core.frame.DataFrame'>\n",
      "RangeIndex: 40000 entries, 0 to 39999\n",
      "Data columns (total 24 columns):\n",
      " #   Column                     Non-Null Count  Dtype \n",
      "---  ------                     --------------  ----- \n",
      " 0   USER ID                    40000 non-null  object\n",
      " 1   FIRST SEEN TIMESTAMP       40000 non-null  object\n",
      " 2   COUNTRY                    40000 non-null  object\n",
      " 3   ATTRIBUTION CHANNEL        40000 non-null  object\n",
      " 4   SIGNUP                     40000 non-null  int64 \n",
      " 5   ENGAGED_WITH_PAIRING       40000 non-null  int64 \n",
      " 6   CODE_SHARED                40000 non-null  int64 \n",
      " 7   PAIRED_SECOND              40000 non-null  int64 \n",
      " 8   PAIRED_INITIATOR           40000 non-null  int64 \n",
      " 9   ONBOARDING_COMPLETED       40000 non-null  int64 \n",
      " 10  CONVERSATION_OPENED        40000 non-null  int64 \n",
      " 11  CONVERSATION_ANSWERED      40000 non-null  int64 \n",
      " 12  PHOTO_UPLOADED             40000 non-null  int64 \n",
      " 13  TRIAL_STARTED              40000 non-null  int64 \n",
      " 14  TRIAL_CONVERTED            40000 non-null  int64 \n",
      " 15  COMMUNICATION_REASON       40000 non-null  int64 \n",
      " 16  CONFLICT_REASON            40000 non-null  int64 \n",
      " 17  CONNECTION_REASON          40000 non-null  int64 \n",
      " 18  FAMILY_AND_FRIENDS_REASON  40000 non-null  int64 \n",
      " 19  FUN_AND_EXCITEMENT_REASON  40000 non-null  int64 \n",
      " 20  HOME_AND_WORK_REASON       40000 non-null  int64 \n",
      " 21  MEANING_AND_GROWTH_REASON  40000 non-null  int64 \n",
      " 22  MONEY_AND_FINANCES_REASON  40000 non-null  int64 \n",
      " 23  SEX_AND_INTIMACY_REASON    40000 non-null  int64 \n",
      "dtypes: int64(20), object(4)\n",
      "memory usage: 7.3+ MB\n"
     ]
    }
   ],
   "source": [
    "df.info()"
   ]
  },
  {
   "cell_type": "code",
   "execution_count": 5,
   "metadata": {},
   "outputs": [
    {
     "data": {
      "application/vnd.microsoft.datawrangler.viewer.v0+json": {
       "columns": [
        {
         "name": "index",
         "rawType": "object",
         "type": "string"
        },
        {
         "name": "SIGNUP",
         "rawType": "float64",
         "type": "float"
        },
        {
         "name": "ENGAGED_WITH_PAIRING",
         "rawType": "float64",
         "type": "float"
        },
        {
         "name": "CODE_SHARED",
         "rawType": "float64",
         "type": "float"
        },
        {
         "name": "PAIRED_SECOND",
         "rawType": "float64",
         "type": "float"
        },
        {
         "name": "PAIRED_INITIATOR",
         "rawType": "float64",
         "type": "float"
        },
        {
         "name": "ONBOARDING_COMPLETED",
         "rawType": "float64",
         "type": "float"
        },
        {
         "name": "CONVERSATION_OPENED",
         "rawType": "float64",
         "type": "float"
        },
        {
         "name": "CONVERSATION_ANSWERED",
         "rawType": "float64",
         "type": "float"
        },
        {
         "name": "PHOTO_UPLOADED",
         "rawType": "float64",
         "type": "float"
        },
        {
         "name": "TRIAL_STARTED",
         "rawType": "float64",
         "type": "float"
        },
        {
         "name": "TRIAL_CONVERTED",
         "rawType": "float64",
         "type": "float"
        },
        {
         "name": "COMMUNICATION_REASON",
         "rawType": "float64",
         "type": "float"
        },
        {
         "name": "CONFLICT_REASON",
         "rawType": "float64",
         "type": "float"
        },
        {
         "name": "CONNECTION_REASON",
         "rawType": "float64",
         "type": "float"
        },
        {
         "name": "FAMILY_AND_FRIENDS_REASON",
         "rawType": "float64",
         "type": "float"
        },
        {
         "name": "FUN_AND_EXCITEMENT_REASON",
         "rawType": "float64",
         "type": "float"
        },
        {
         "name": "HOME_AND_WORK_REASON",
         "rawType": "float64",
         "type": "float"
        },
        {
         "name": "MEANING_AND_GROWTH_REASON",
         "rawType": "float64",
         "type": "float"
        },
        {
         "name": "MONEY_AND_FINANCES_REASON",
         "rawType": "float64",
         "type": "float"
        },
        {
         "name": "SEX_AND_INTIMACY_REASON",
         "rawType": "float64",
         "type": "float"
        }
       ],
       "conversionMethod": "pd.DataFrame",
       "ref": "b879c902-679e-43d9-866a-f236bb8e58be",
       "rows": [
        [
         "count",
         "40000.0",
         "40000.0",
         "40000.0",
         "40000.0",
         "40000.0",
         "40000.0",
         "40000.0",
         "40000.0",
         "40000.0",
         "40000.0",
         "40000.0",
         "40000.0",
         "40000.0",
         "40000.0",
         "40000.0",
         "40000.0",
         "40000.0",
         "40000.0",
         "40000.0",
         "40000.0"
        ],
        [
         "mean",
         "1.0",
         "0.6367",
         "0.38575",
         "0.352375",
         "0.2656",
         "0.828175",
         "0.6304",
         "0.551975",
         "0.62055",
         "0.143275",
         "0.033675",
         "0.63225",
         "0.43925",
         "0.6431",
         "0.264525",
         "0.564775",
         "0.297125",
         "0.50445",
         "0.2713",
         "0.533825"
        ],
        [
         "std",
         "0.0",
         "0.48095622770926283",
         "0.4867780411250419",
         "0.47771598747489835",
         "0.44165769158694995",
         "0.3772329876789341",
         "0.4827024601570061",
         "0.49729747837139676",
         "0.4852562048440066",
         "0.3503574505181506",
         "0.18039348081401943",
         "0.48219887017055507",
         "0.4963019195911747",
         "0.4790909393875082",
         "0.44108546596403186",
         "0.4957926427788293",
         "0.45699776317711743",
         "0.4999864469774946",
         "0.4446360900009279",
         "0.4988607931349919"
        ],
        [
         "min",
         "1.0",
         "0.0",
         "0.0",
         "0.0",
         "0.0",
         "0.0",
         "0.0",
         "0.0",
         "0.0",
         "0.0",
         "0.0",
         "0.0",
         "0.0",
         "0.0",
         "0.0",
         "0.0",
         "0.0",
         "0.0",
         "0.0",
         "0.0"
        ],
        [
         "25%",
         "1.0",
         "0.0",
         "0.0",
         "0.0",
         "0.0",
         "1.0",
         "0.0",
         "0.0",
         "0.0",
         "0.0",
         "0.0",
         "0.0",
         "0.0",
         "0.0",
         "0.0",
         "0.0",
         "0.0",
         "0.0",
         "0.0",
         "0.0"
        ],
        [
         "50%",
         "1.0",
         "1.0",
         "0.0",
         "0.0",
         "0.0",
         "1.0",
         "1.0",
         "1.0",
         "1.0",
         "0.0",
         "0.0",
         "1.0",
         "0.0",
         "1.0",
         "0.0",
         "1.0",
         "0.0",
         "1.0",
         "0.0",
         "1.0"
        ],
        [
         "75%",
         "1.0",
         "1.0",
         "1.0",
         "1.0",
         "1.0",
         "1.0",
         "1.0",
         "1.0",
         "1.0",
         "0.0",
         "0.0",
         "1.0",
         "1.0",
         "1.0",
         "1.0",
         "1.0",
         "1.0",
         "1.0",
         "1.0",
         "1.0"
        ],
        [
         "max",
         "1.0",
         "1.0",
         "1.0",
         "1.0",
         "1.0",
         "1.0",
         "1.0",
         "1.0",
         "1.0",
         "1.0",
         "1.0",
         "1.0",
         "1.0",
         "1.0",
         "1.0",
         "1.0",
         "1.0",
         "1.0",
         "1.0",
         "1.0"
        ]
       ],
       "shape": {
        "columns": 20,
        "rows": 8
       }
      },
      "text/html": [
       "<div>\n",
       "<style scoped>\n",
       "    .dataframe tbody tr th:only-of-type {\n",
       "        vertical-align: middle;\n",
       "    }\n",
       "\n",
       "    .dataframe tbody tr th {\n",
       "        vertical-align: top;\n",
       "    }\n",
       "\n",
       "    .dataframe thead th {\n",
       "        text-align: right;\n",
       "    }\n",
       "</style>\n",
       "<table border=\"1\" class=\"dataframe\">\n",
       "  <thead>\n",
       "    <tr style=\"text-align: right;\">\n",
       "      <th></th>\n",
       "      <th>SIGNUP</th>\n",
       "      <th>ENGAGED_WITH_PAIRING</th>\n",
       "      <th>CODE_SHARED</th>\n",
       "      <th>PAIRED_SECOND</th>\n",
       "      <th>PAIRED_INITIATOR</th>\n",
       "      <th>ONBOARDING_COMPLETED</th>\n",
       "      <th>CONVERSATION_OPENED</th>\n",
       "      <th>CONVERSATION_ANSWERED</th>\n",
       "      <th>PHOTO_UPLOADED</th>\n",
       "      <th>TRIAL_STARTED</th>\n",
       "      <th>TRIAL_CONVERTED</th>\n",
       "      <th>COMMUNICATION_REASON</th>\n",
       "      <th>CONFLICT_REASON</th>\n",
       "      <th>CONNECTION_REASON</th>\n",
       "      <th>FAMILY_AND_FRIENDS_REASON</th>\n",
       "      <th>FUN_AND_EXCITEMENT_REASON</th>\n",
       "      <th>HOME_AND_WORK_REASON</th>\n",
       "      <th>MEANING_AND_GROWTH_REASON</th>\n",
       "      <th>MONEY_AND_FINANCES_REASON</th>\n",
       "      <th>SEX_AND_INTIMACY_REASON</th>\n",
       "    </tr>\n",
       "  </thead>\n",
       "  <tbody>\n",
       "    <tr>\n",
       "      <th>count</th>\n",
       "      <td>40000.0</td>\n",
       "      <td>40000.000000</td>\n",
       "      <td>40000.000000</td>\n",
       "      <td>40000.000000</td>\n",
       "      <td>40000.000000</td>\n",
       "      <td>40000.000000</td>\n",
       "      <td>40000.000000</td>\n",
       "      <td>40000.000000</td>\n",
       "      <td>40000.000000</td>\n",
       "      <td>40000.000000</td>\n",
       "      <td>40000.000000</td>\n",
       "      <td>40000.000000</td>\n",
       "      <td>40000.000000</td>\n",
       "      <td>40000.000000</td>\n",
       "      <td>40000.000000</td>\n",
       "      <td>40000.000000</td>\n",
       "      <td>40000.000000</td>\n",
       "      <td>40000.000000</td>\n",
       "      <td>40000.000000</td>\n",
       "      <td>40000.000000</td>\n",
       "    </tr>\n",
       "    <tr>\n",
       "      <th>mean</th>\n",
       "      <td>1.0</td>\n",
       "      <td>0.636700</td>\n",
       "      <td>0.385750</td>\n",
       "      <td>0.352375</td>\n",
       "      <td>0.265600</td>\n",
       "      <td>0.828175</td>\n",
       "      <td>0.630400</td>\n",
       "      <td>0.551975</td>\n",
       "      <td>0.620550</td>\n",
       "      <td>0.143275</td>\n",
       "      <td>0.033675</td>\n",
       "      <td>0.632250</td>\n",
       "      <td>0.439250</td>\n",
       "      <td>0.643100</td>\n",
       "      <td>0.264525</td>\n",
       "      <td>0.564775</td>\n",
       "      <td>0.297125</td>\n",
       "      <td>0.504450</td>\n",
       "      <td>0.271300</td>\n",
       "      <td>0.533825</td>\n",
       "    </tr>\n",
       "    <tr>\n",
       "      <th>std</th>\n",
       "      <td>0.0</td>\n",
       "      <td>0.480956</td>\n",
       "      <td>0.486778</td>\n",
       "      <td>0.477716</td>\n",
       "      <td>0.441658</td>\n",
       "      <td>0.377233</td>\n",
       "      <td>0.482702</td>\n",
       "      <td>0.497297</td>\n",
       "      <td>0.485256</td>\n",
       "      <td>0.350357</td>\n",
       "      <td>0.180393</td>\n",
       "      <td>0.482199</td>\n",
       "      <td>0.496302</td>\n",
       "      <td>0.479091</td>\n",
       "      <td>0.441085</td>\n",
       "      <td>0.495793</td>\n",
       "      <td>0.456998</td>\n",
       "      <td>0.499986</td>\n",
       "      <td>0.444636</td>\n",
       "      <td>0.498861</td>\n",
       "    </tr>\n",
       "    <tr>\n",
       "      <th>min</th>\n",
       "      <td>1.0</td>\n",
       "      <td>0.000000</td>\n",
       "      <td>0.000000</td>\n",
       "      <td>0.000000</td>\n",
       "      <td>0.000000</td>\n",
       "      <td>0.000000</td>\n",
       "      <td>0.000000</td>\n",
       "      <td>0.000000</td>\n",
       "      <td>0.000000</td>\n",
       "      <td>0.000000</td>\n",
       "      <td>0.000000</td>\n",
       "      <td>0.000000</td>\n",
       "      <td>0.000000</td>\n",
       "      <td>0.000000</td>\n",
       "      <td>0.000000</td>\n",
       "      <td>0.000000</td>\n",
       "      <td>0.000000</td>\n",
       "      <td>0.000000</td>\n",
       "      <td>0.000000</td>\n",
       "      <td>0.000000</td>\n",
       "    </tr>\n",
       "    <tr>\n",
       "      <th>25%</th>\n",
       "      <td>1.0</td>\n",
       "      <td>0.000000</td>\n",
       "      <td>0.000000</td>\n",
       "      <td>0.000000</td>\n",
       "      <td>0.000000</td>\n",
       "      <td>1.000000</td>\n",
       "      <td>0.000000</td>\n",
       "      <td>0.000000</td>\n",
       "      <td>0.000000</td>\n",
       "      <td>0.000000</td>\n",
       "      <td>0.000000</td>\n",
       "      <td>0.000000</td>\n",
       "      <td>0.000000</td>\n",
       "      <td>0.000000</td>\n",
       "      <td>0.000000</td>\n",
       "      <td>0.000000</td>\n",
       "      <td>0.000000</td>\n",
       "      <td>0.000000</td>\n",
       "      <td>0.000000</td>\n",
       "      <td>0.000000</td>\n",
       "    </tr>\n",
       "    <tr>\n",
       "      <th>50%</th>\n",
       "      <td>1.0</td>\n",
       "      <td>1.000000</td>\n",
       "      <td>0.000000</td>\n",
       "      <td>0.000000</td>\n",
       "      <td>0.000000</td>\n",
       "      <td>1.000000</td>\n",
       "      <td>1.000000</td>\n",
       "      <td>1.000000</td>\n",
       "      <td>1.000000</td>\n",
       "      <td>0.000000</td>\n",
       "      <td>0.000000</td>\n",
       "      <td>1.000000</td>\n",
       "      <td>0.000000</td>\n",
       "      <td>1.000000</td>\n",
       "      <td>0.000000</td>\n",
       "      <td>1.000000</td>\n",
       "      <td>0.000000</td>\n",
       "      <td>1.000000</td>\n",
       "      <td>0.000000</td>\n",
       "      <td>1.000000</td>\n",
       "    </tr>\n",
       "    <tr>\n",
       "      <th>75%</th>\n",
       "      <td>1.0</td>\n",
       "      <td>1.000000</td>\n",
       "      <td>1.000000</td>\n",
       "      <td>1.000000</td>\n",
       "      <td>1.000000</td>\n",
       "      <td>1.000000</td>\n",
       "      <td>1.000000</td>\n",
       "      <td>1.000000</td>\n",
       "      <td>1.000000</td>\n",
       "      <td>0.000000</td>\n",
       "      <td>0.000000</td>\n",
       "      <td>1.000000</td>\n",
       "      <td>1.000000</td>\n",
       "      <td>1.000000</td>\n",
       "      <td>1.000000</td>\n",
       "      <td>1.000000</td>\n",
       "      <td>1.000000</td>\n",
       "      <td>1.000000</td>\n",
       "      <td>1.000000</td>\n",
       "      <td>1.000000</td>\n",
       "    </tr>\n",
       "    <tr>\n",
       "      <th>max</th>\n",
       "      <td>1.0</td>\n",
       "      <td>1.000000</td>\n",
       "      <td>1.000000</td>\n",
       "      <td>1.000000</td>\n",
       "      <td>1.000000</td>\n",
       "      <td>1.000000</td>\n",
       "      <td>1.000000</td>\n",
       "      <td>1.000000</td>\n",
       "      <td>1.000000</td>\n",
       "      <td>1.000000</td>\n",
       "      <td>1.000000</td>\n",
       "      <td>1.000000</td>\n",
       "      <td>1.000000</td>\n",
       "      <td>1.000000</td>\n",
       "      <td>1.000000</td>\n",
       "      <td>1.000000</td>\n",
       "      <td>1.000000</td>\n",
       "      <td>1.000000</td>\n",
       "      <td>1.000000</td>\n",
       "      <td>1.000000</td>\n",
       "    </tr>\n",
       "  </tbody>\n",
       "</table>\n",
       "</div>"
      ],
      "text/plain": [
       "        SIGNUP  ENGAGED_WITH_PAIRING   CODE_SHARED  PAIRED_SECOND  \\\n",
       "count  40000.0          40000.000000  40000.000000   40000.000000   \n",
       "mean       1.0              0.636700      0.385750       0.352375   \n",
       "std        0.0              0.480956      0.486778       0.477716   \n",
       "min        1.0              0.000000      0.000000       0.000000   \n",
       "25%        1.0              0.000000      0.000000       0.000000   \n",
       "50%        1.0              1.000000      0.000000       0.000000   \n",
       "75%        1.0              1.000000      1.000000       1.000000   \n",
       "max        1.0              1.000000      1.000000       1.000000   \n",
       "\n",
       "       PAIRED_INITIATOR  ONBOARDING_COMPLETED  CONVERSATION_OPENED  \\\n",
       "count      40000.000000          40000.000000         40000.000000   \n",
       "mean           0.265600              0.828175             0.630400   \n",
       "std            0.441658              0.377233             0.482702   \n",
       "min            0.000000              0.000000             0.000000   \n",
       "25%            0.000000              1.000000             0.000000   \n",
       "50%            0.000000              1.000000             1.000000   \n",
       "75%            1.000000              1.000000             1.000000   \n",
       "max            1.000000              1.000000             1.000000   \n",
       "\n",
       "       CONVERSATION_ANSWERED  PHOTO_UPLOADED  TRIAL_STARTED  TRIAL_CONVERTED  \\\n",
       "count           40000.000000    40000.000000   40000.000000     40000.000000   \n",
       "mean                0.551975        0.620550       0.143275         0.033675   \n",
       "std                 0.497297        0.485256       0.350357         0.180393   \n",
       "min                 0.000000        0.000000       0.000000         0.000000   \n",
       "25%                 0.000000        0.000000       0.000000         0.000000   \n",
       "50%                 1.000000        1.000000       0.000000         0.000000   \n",
       "75%                 1.000000        1.000000       0.000000         0.000000   \n",
       "max                 1.000000        1.000000       1.000000         1.000000   \n",
       "\n",
       "       COMMUNICATION_REASON  CONFLICT_REASON  CONNECTION_REASON  \\\n",
       "count          40000.000000     40000.000000       40000.000000   \n",
       "mean               0.632250         0.439250           0.643100   \n",
       "std                0.482199         0.496302           0.479091   \n",
       "min                0.000000         0.000000           0.000000   \n",
       "25%                0.000000         0.000000           0.000000   \n",
       "50%                1.000000         0.000000           1.000000   \n",
       "75%                1.000000         1.000000           1.000000   \n",
       "max                1.000000         1.000000           1.000000   \n",
       "\n",
       "       FAMILY_AND_FRIENDS_REASON  FUN_AND_EXCITEMENT_REASON  \\\n",
       "count               40000.000000               40000.000000   \n",
       "mean                    0.264525                   0.564775   \n",
       "std                     0.441085                   0.495793   \n",
       "min                     0.000000                   0.000000   \n",
       "25%                     0.000000                   0.000000   \n",
       "50%                     0.000000                   1.000000   \n",
       "75%                     1.000000                   1.000000   \n",
       "max                     1.000000                   1.000000   \n",
       "\n",
       "       HOME_AND_WORK_REASON  MEANING_AND_GROWTH_REASON  \\\n",
       "count          40000.000000               40000.000000   \n",
       "mean               0.297125                   0.504450   \n",
       "std                0.456998                   0.499986   \n",
       "min                0.000000                   0.000000   \n",
       "25%                0.000000                   0.000000   \n",
       "50%                0.000000                   1.000000   \n",
       "75%                1.000000                   1.000000   \n",
       "max                1.000000                   1.000000   \n",
       "\n",
       "       MONEY_AND_FINANCES_REASON  SEX_AND_INTIMACY_REASON  \n",
       "count               40000.000000             40000.000000  \n",
       "mean                    0.271300                 0.533825  \n",
       "std                     0.444636                 0.498861  \n",
       "min                     0.000000                 0.000000  \n",
       "25%                     0.000000                 0.000000  \n",
       "50%                     0.000000                 1.000000  \n",
       "75%                     1.000000                 1.000000  \n",
       "max                     1.000000                 1.000000  "
      ]
     },
     "execution_count": 5,
     "metadata": {},
     "output_type": "execute_result"
    }
   ],
   "source": [
    "df.describe()"
   ]
  },
  {
   "cell_type": "code",
   "execution_count": 28,
   "metadata": {},
   "outputs": [
    {
     "name": "stdout",
     "output_type": "stream",
     "text": [
      "Total de usuarios: 40000\n"
     ]
    }
   ],
   "source": [
    "# cuantos usuarios hay en todo el dataset\n",
    "\n",
    "total_usuarios = df['USER ID'].nunique()\n",
    "\n",
    "total_usuarios = len(df)\n",
    "\n",
    "print(f\"Total de usuarios: {total_usuarios}\")"
   ]
  },
  {
   "cell_type": "markdown",
   "metadata": {},
   "source": [
    "# Usuarios que empiezan el trial y los que convierten\n",
    "#"
   ]
  },
  {
   "cell_type": "code",
   "execution_count": null,
   "metadata": {},
   "outputs": [],
   "source": []
  },
  {
   "cell_type": "markdown",
   "metadata": {},
   "source": [
    "### Hipótesis "
   ]
  },
  {
   "cell_type": "code",
   "execution_count": 6,
   "metadata": {},
   "outputs": [],
   "source": [
    "# Hipótesis 1:\n",
    "# Columnas relevantes:\n",
    "# TRIAL_CONVERTED: Indica si el usuario convirtió (1) o no (0).\n",
    "# Problema:Cada usuario puede haber seleccionado múltiples razones, ya que las razones \n",
    "# están en columnas separadas con valores 0 o 1."
   ]
  },
  {
   "cell_type": "code",
   "execution_count": 7,
   "metadata": {},
   "outputs": [
    {
     "data": {
      "image/png": "[encoded data removed]",
      "text/plain": [
       "<Figure size 1400x800 with 1 Axes>"
      ]
     },
     "metadata": {},
     "output_type": "display_data"
    }
   ],
   "source": [
    "# Hipótesis 1, Examinar si los usuarios que seleccionan diferentes razones para usar la app tienen tasas de conversión distintas.\n",
    "# Datos clave necesarios:\n",
    "# ID del usuario.\n",
    "# Razón seleccionada para usar la app.\n",
    "# Estado de conversión (1 = convertido, 0 = no convertido).\n",
    "# Fecha de selección de la razón y fecha de conversión (si aplica).\n",
    "\n",
    "\n",
    "\n",
    "# Definir columnas de razones\n",
    "razones_cols = [\n",
    "    \"COMMUNICATION_REASON\", \"CONFLICT_REASON\", \"CONNECTION_REASON\", \n",
    "    \"FAMILY_AND_FRIENDS_REASON\", \"FUN_AND_EXCITEMENT_REASON\", \"HOME_AND_WORK_REASON\",\n",
    "    \"MEANING_AND_GROWTH_REASON\", \"MONEY_AND_FINANCES_REASON\", \"SEX_AND_INTIMACY_REASON\"\n",
    "]\n",
    "\n",
    "# Transformar el dataset: Crear una columna con la razón principal de cada usuario\n",
    "df_melted = df.melt(id_vars=[\"USER ID\", \"TRIAL_CONVERTED\"], \n",
    "                     value_vars=razones_cols, \n",
    "                     var_name=\"razon\", value_name=\"selected\")\n",
    "\n",
    "# Filtrar solo las razones seleccionadas (selected = 1)\n",
    "df_melted = df_melted[df_melted[\"selected\"] == 1].drop(columns=[\"selected\"])\n",
    "\n",
    "# Renombrar columnas para que coincidan con el código original\n",
    "df_melted = df_melted.rename(columns={\"TRIAL_CONVERTED\": \"conversion\"})\n",
    "\n",
    "# Calcular tasas de conversión\n",
    "conversion_rates = df_melted.groupby(\"razon\")[\"conversion\"].mean().reset_index()\n",
    "\n",
    "plt.figure(figsize=(14,8))  # Tamaño más grande\n",
    "\n",
    "# Ordenar de mayor a menor\n",
    "conversion_rates = conversion_rates.sort_values(by=\"conversion\", ascending=False)\n",
    "\n",
    "# Crear el gráfico de barras ordenado\n",
    "sns.barplot(x=\"razon\", y=\"conversion\", hue=\"razon\", data=conversion_rates, palette=\"viridis\", legend=False)\n",
    "\n",
    "# Mejorar etiquetas y título\n",
    "plt.xticks(rotation=45, ha=\"right\", fontsize=12)\n",
    "plt.ylabel(\"Tasa de Conversión\", fontsize=14)\n",
    "plt.xlabel(\"Razón de Uso\", fontsize=14)\n",
    "plt.title(\"Tasa de Conversión por Razón de Uso (Ordenado de Mayor a Menor)\", fontsize=16)\n",
    "\n",
    "plt.show()\n",
    "\n",
    "\n",
    "\n",
    "\n",
    "\n"
   ]
  },
  {
   "cell_type": "markdown",
   "metadata": {},
   "source": [
    "#### Apenas se aprecia diferencia, pero la razón principal es home and work reason."
   ]
  },
  {
   "cell_type": "code",
   "execution_count": 8,
   "metadata": {},
   "outputs": [],
   "source": [
    "# Ahora quiero saber cuantas razones selecciona cada usuario. ¿Cuántas se pueden seeccionar?¿es un dato irrelevante?\n",
    "# Crear la columna con el número de razones seleccionadas\n",
    "\n",
    "\n"
   ]
  },
  {
   "cell_type": "markdown",
   "metadata": {},
   "source": [
    "## Hipótesis 2\n",
    "- Los usuarios que completan todas las pantallas de incorporación (ONBOARDING_COMPLETED) tienen una tasa de conversión a una suscripción de pago (TRIAL_CONVERTED) más alta que aquellos que no completan el onboarding"
   ]
  },
  {
   "cell_type": "code",
   "execution_count": 10,
   "metadata": {},
   "outputs": [
    {
     "data": {
      "image/png": "[encoded data removed]",
      "text/plain": [
       "<Figure size 800x500 with 1 Axes>"
      ]
     },
     "metadata": {},
     "output_type": "display_data"
    }
   ],
   "source": [
    "# Definir los valores\n",
    "conversion_rates = {0: 0.000291, 1: 0.040601} # esto lo he sacado con chatgpt pero no me aclaro\n",
    "\n",
    "# Crear la gráfica\n",
    "plt.figure(figsize=(8,5))\n",
    "plt.plot(conversion_rates.keys(), conversion_rates.values(), marker='o', linestyle='-', color='b')\n",
    "\n",
    "# Etiquetas y título\n",
    "plt.xticks([0, 1], [\"No Onboarding\", \"Onboarding Completed\"])\n",
    "plt.xlabel(\"Estado de Onboarding\")\n",
    "plt.ylabel(\"Tasa de Conversión a Suscripción (%)\")\n",
    "plt.title(\"Conversión a Suscripción vs. Onboarding\")\n",
    "plt.grid(True)\n",
    "\n",
    "# Mostrar la gráfica\n",
    "plt.show()\n"
   ]
  },
  {
   "cell_type": "markdown",
   "metadata": {},
   "source": [
    "### Los resultados muestran que:\n",
    "- Los usuarios que no completaron el onboarding tienen una tasa de conversión de 0.029%.\n",
    "- Los usuarios que sí completaron el onboarding tienen una tasa de conversión de 4.06%."
   ]
  },
  {
   "cell_type": "markdown",
   "metadata": {},
   "source": [
    "## Hipótesis 3\n",
    "- La falta de interacción durante el trial de 7 días es directamente proporcional con la cancelación."
   ]
  },
  {
   "cell_type": "markdown",
   "metadata": {},
   "source": [
    "### revisar esta, no lo veo claro"
   ]
  },
  {
   "cell_type": "code",
   "execution_count": 11,
   "metadata": {},
   "outputs": [
    {
     "name": "stdout",
     "output_type": "stream",
     "text": [
      "Index(['USER ID', 'FIRST SEEN TIMESTAMP', 'COUNTRY', 'ATTRIBUTION CHANNEL',\n",
      "       'SIGNUP', 'ENGAGED_WITH_PAIRING', 'CODE_SHARED', 'PAIRED_SECOND',\n",
      "       'PAIRED_INITIATOR', 'ONBOARDING_COMPLETED', 'CONVERSATION_OPENED',\n",
      "       'CONVERSATION_ANSWERED', 'PHOTO_UPLOADED', 'TRIAL_STARTED',\n",
      "       'TRIAL_CONVERTED', 'COMMUNICATION_REASON', 'CONFLICT_REASON',\n",
      "       'CONNECTION_REASON', 'FAMILY_AND_FRIENDS_REASON',\n",
      "       'FUN_AND_EXCITEMENT_REASON', 'HOME_AND_WORK_REASON',\n",
      "       'MEANING_AND_GROWTH_REASON', 'MONEY_AND_FINANCES_REASON',\n",
      "       'SEX_AND_INTIMACY_REASON'],\n",
      "      dtype='object')\n",
      "ENGAGED_WITH_PAIRING    0.003275\n",
      "CODE_SHARED             0.076983\n",
      "PAIRED_SECOND           0.014027\n",
      "PAIRED_INITIATOR        0.119002\n",
      "TRIAL_CONVERTED         1.000000\n",
      "Name: TRIAL_CONVERTED, dtype: float64\n"
     ]
    }
   ],
   "source": [
    "\n",
    "# Ver las columnas disponibles\n",
    "print(df.columns)\n",
    "\n",
    "# Ver la correlación entre interacción y conversión\n",
    "interaction_cols = [\"ENGAGED_WITH_PAIRING\", \"CODE_SHARED\", \"PAIRED_SECOND\", \"PAIRED_INITIATOR\"]\n",
    "correlation = df[interaction_cols + [\"TRIAL_CONVERTED\"]].corr()\n",
    "print(correlation[\"TRIAL_CONVERTED\"])\n"
   ]
  },
  {
   "cell_type": "code",
   "execution_count": 12,
   "metadata": {},
   "outputs": [
    {
     "name": "stdout",
     "output_type": "stream",
     "text": [
      "INTERACTED\n",
      "0    0.003432\n",
      "1    0.036571\n",
      "Name: TRIAL_CONVERTED, dtype: float64\n"
     ]
    }
   ],
   "source": [
    "# Definir si un usuario interactuó\n",
    "df[\"INTERACTED\"] = (df[[\"ENGAGED_WITH_PAIRING\", \"CODE_SHARED\", \"PAIRED_SECOND\", \"PAIRED_INITIATOR\"]].sum(axis=1) > 0).astype(int)\n",
    "\n",
    "# Ver la tasa de conversión entre usuarios que interactuaron vs. los que no\n",
    "conversion_rates = df.groupby(\"INTERACTED\")[\"TRIAL_CONVERTED\"].mean()\n",
    "print(conversion_rates)\n"
   ]
  },
  {
   "cell_type": "markdown",
   "metadata": {},
   "source": [
    "## Hipótesis 4\n",
    "- Los usuarios que se registran desde ciertos países tienen una tasa de conversión más alta a la suscripción de pago (TRIAL_CONVERTED) que aquellos que se registran desde otros países.(Evaluar si las tasas de conversión son consistentes en todos los países, identificando posibles diferencias regionales)"
   ]
  },
  {
   "cell_type": "code",
   "execution_count": 13,
   "metadata": {},
   "outputs": [],
   "source": [
    "# Filtrar por paises\n",
    "# Mirar tema mostrar gráfica con mapa, mirar folium"
   ]
  },
  {
   "cell_type": "code",
   "execution_count": 14,
   "metadata": {},
   "outputs": [
    {
     "name": "stdout",
     "output_type": "stream",
     "text": [
      "COUNTRY\n",
      "United States     30382\n",
      "United Kingdom     2537\n",
      "Canada             1727\n",
      "France             1322\n",
      "Australia          1259\n",
      "India              1017\n",
      "Germany             987\n",
      "South Africa        493\n",
      "New Zealand         276\n",
      "Name: count, dtype: int64\n"
     ]
    }
   ],
   "source": [
    "# Número de usuarios por pais\n",
    "\n",
    "usuarios_por_pais = df[\"COUNTRY\"].value_counts()\n",
    "print(usuarios_por_pais)"
   ]
  },
  {
   "cell_type": "code",
   "execution_count": 15,
   "metadata": {},
   "outputs": [
    {
     "name": "stderr",
     "output_type": "stream",
     "text": [
      "C:\\Users\\nsara\\AppData\\Local\\Temp\\ipykernel_7620\\2275937425.py:9: FutureWarning: \n",
      "\n",
      "Passing `palette` without assigning `hue` is deprecated and will be removed in v0.14.0. Assign the `x` variable to `hue` and set `legend=False` for the same effect.\n",
      "\n",
      "  sns.barplot(x=\"COUNTRY\", y=\"TRIAL_CONVERTED\", data=conversion_rates, palette=\"viridis\")\n"
     ]
    },
    {
     "data": {
      "image/png": "[encoded data removed]",
      "text/plain": [
       "<Figure size 1400x600 with 1 Axes>"
      ]
     },
     "metadata": {},
     "output_type": "display_data"
    }
   ],
   "source": [
    "# Calcular la tasa de conversión por país\n",
    "conversion_rates = df.groupby(\"COUNTRY\")[\"TRIAL_CONVERTED\"].mean().reset_index()\n",
    "\n",
    "# Ordenar de mayor a menor\n",
    "conversion_rates = conversion_rates.sort_values(by=\"TRIAL_CONVERTED\", ascending=False)\n",
    "\n",
    "# Graficar tasas de conversión por país\n",
    "plt.figure(figsize=(14,6))\n",
    "sns.barplot(x=\"COUNTRY\", y=\"TRIAL_CONVERTED\", data=conversion_rates, palette=\"viridis\")\n",
    "plt.xticks(rotation=45, ha=\"right\", fontsize=12)\n",
    "plt.ylabel(\"Tasa de Conversión\", fontsize=14)\n",
    "plt.xlabel(\"País\", fontsize=14)\n",
    "plt.title(\"Tasa de Conversión a Suscripción de Pago por País\", fontsize=16)\n",
    "\n",
    "plt.show()\n"
   ]
  },
  {
   "cell_type": "code",
   "execution_count": 16,
   "metadata": {},
   "outputs": [
    {
     "data": {
      "text/html": [
       "<div style=\"width:100%;\"><div style=\"position:relative;width:100%;height:0;padding-bottom:60%;\"><span style=\"color:#565656\">Make this Notebook Trusted to load map: File -> Trust Notebook</span><iframe srcdoc=\"&lt;!DOCTYPE html&gt;\n",
       "&lt;html&gt;\n",
       "&lt;head&gt;\n",
       "    \n",
       "    &lt;meta http-equiv=&quot;content-type&quot; content=&quot;text/html; charset=UTF-8&quot; /&gt;\n",
       "    \n",
       "        &lt;script&gt;\n",
       "            L_NO_TOUCH = false;\n",
       "            L_DISABLE_3D = false;\n",
       "        &lt;/script&gt;\n",
       "    \n",
       "    &lt;style&gt;html, body {width: 100%;height: 100%;margin: 0;padding: 0;}&lt;/style&gt;\n",
       "    &lt;style&gt;#map {position:absolute;top:0;bottom:0;right:0;left:0;}&lt;/style&gt;\n",
       "    &lt;script src=&quot;https://cdn.jsdelivr.net/npm/leaflet@1.9.3/dist/leaflet.js&quot;&gt;&lt;/script&gt;\n",
       "    &lt;script src=&quot;https://code.jquery.com/jquery-3.7.1.min.js&quot;&gt;&lt;/script&gt;\n",
       "    &lt;script src=&quot;https://cdn.jsdelivr.net/npm/bootstrap@5.2.2/dist/js/bootstrap.bundle.min.js&quot;&gt;&lt;/script&gt;\n",
       "    &lt;script src=&quot;https://cdnjs.cloudflare.com/ajax/libs/Leaflet.awesome-markers/2.0.2/leaflet.awesome-markers.js&quot;&gt;&lt;/script&gt;\n",
       "    &lt;link rel=&quot;stylesheet&quot; href=&quot;https://cdn.jsdelivr.net/npm/leaflet@1.9.3/dist/leaflet.css&quot;/&gt;\n",
       "    &lt;link rel=&quot;stylesheet&quot; href=&quot;https://cdn.jsdelivr.net/npm/bootstrap@5.2.2/dist/css/bootstrap.min.css&quot;/&gt;\n",
       "    &lt;link rel=&quot;stylesheet&quot; href=&quot;https://netdna.bootstrapcdn.com/bootstrap/3.0.0/css/bootstrap-glyphicons.css&quot;/&gt;\n",
       "    &lt;link rel=&quot;stylesheet&quot; href=&quot;https://cdn.jsdelivr.net/npm/@fortawesome/fontawesome-free@6.2.0/css/all.min.css&quot;/&gt;\n",
       "    &lt;link rel=&quot;stylesheet&quot; href=&quot;https://cdnjs.cloudflare.com/ajax/libs/Leaflet.awesome-markers/2.0.2/leaflet.awesome-markers.css&quot;/&gt;\n",
       "    &lt;link rel=&quot;stylesheet&quot; href=&quot;https://cdn.jsdelivr.net/gh/python-visualization/folium/folium/templates/leaflet.awesome.rotate.min.css&quot;/&gt;\n",
       "    \n",
       "            &lt;meta name=&quot;viewport&quot; content=&quot;width=device-width,\n",
       "                initial-scale=1.0, maximum-scale=1.0, user-scalable=no&quot; /&gt;\n",
       "            &lt;style&gt;\n",
       "                #map_4dcd8ffbc78f3a47758c21f3db1a19bc {\n",
       "                    position: relative;\n",
       "                    width: 100.0%;\n",
       "                    height: 100.0%;\n",
       "                    left: 0.0%;\n",
       "                    top: 0.0%;\n",
       "                }\n",
       "                .leaflet-container { font-size: 1rem; }\n",
       "            &lt;/style&gt;\n",
       "        \n",
       "&lt;/head&gt;\n",
       "&lt;body&gt;\n",
       "    \n",
       "    \n",
       "            &lt;div class=&quot;folium-map&quot; id=&quot;map_4dcd8ffbc78f3a47758c21f3db1a19bc&quot; &gt;&lt;/div&gt;\n",
       "        \n",
       "&lt;/body&gt;\n",
       "&lt;script&gt;\n",
       "    \n",
       "    \n",
       "            var map_4dcd8ffbc78f3a47758c21f3db1a19bc = L.map(\n",
       "                &quot;map_4dcd8ffbc78f3a47758c21f3db1a19bc&quot;,\n",
       "                {\n",
       "                    center: [0.0, 0.0],\n",
       "                    crs: L.CRS.EPSG3857,\n",
       "                    ...{\n",
       "  &quot;zoom&quot;: 2,\n",
       "  &quot;zoomControl&quot;: true,\n",
       "  &quot;preferCanvas&quot;: false,\n",
       "}\n",
       "\n",
       "                }\n",
       "            );\n",
       "\n",
       "            \n",
       "\n",
       "        \n",
       "    \n",
       "            var tile_layer_c1defb5e928be079485bb387a9629117 = L.tileLayer(\n",
       "                &quot;https://tile.openstreetmap.org/{z}/{x}/{y}.png&quot;,\n",
       "                {\n",
       "  &quot;minZoom&quot;: 0,\n",
       "  &quot;maxZoom&quot;: 19,\n",
       "  &quot;maxNativeZoom&quot;: 19,\n",
       "  &quot;noWrap&quot;: false,\n",
       "  &quot;attribution&quot;: &quot;\\u0026copy; \\u003ca href=\\&quot;https://www.openstreetmap.org/copyright\\&quot;\\u003eOpenStreetMap\\u003c/a\\u003e contributors&quot;,\n",
       "  &quot;subdomains&quot;: &quot;abc&quot;,\n",
       "  &quot;detectRetina&quot;: false,\n",
       "  &quot;tms&quot;: false,\n",
       "  &quot;opacity&quot;: 1,\n",
       "}\n",
       "\n",
       "            );\n",
       "        \n",
       "    \n",
       "            tile_layer_c1defb5e928be079485bb387a9629117.addTo(map_4dcd8ffbc78f3a47758c21f3db1a19bc);\n",
       "        \n",
       "    \n",
       "            var marker_082bbc3d1465a96b6965011d6259ee13 = L.marker(\n",
       "                [37.0902, -95.7129],\n",
       "                {\n",
       "}\n",
       "            ).addTo(map_4dcd8ffbc78f3a47758c21f3db1a19bc);\n",
       "        \n",
       "    \n",
       "            var icon_f9261bff24884bf0932d8fbb900cf4e4 = L.AwesomeMarkers.icon(\n",
       "                {\n",
       "  &quot;markerColor&quot;: &quot;purple&quot;,\n",
       "  &quot;iconColor&quot;: &quot;white&quot;,\n",
       "  &quot;icon&quot;: &quot;info-sign&quot;,\n",
       "  &quot;prefix&quot;: &quot;glyphicon&quot;,\n",
       "  &quot;extraClasses&quot;: &quot;fa-rotate-0&quot;,\n",
       "}\n",
       "            );\n",
       "        \n",
       "    \n",
       "        var popup_9f66604d08929a2405f48eed9451c61d = L.popup({\n",
       "  &quot;maxWidth&quot;: &quot;100%&quot;,\n",
       "});\n",
       "\n",
       "        \n",
       "            \n",
       "                var html_d76b27f1529f937788fa2c2224c9bd82 = $(`&lt;div id=&quot;html_d76b27f1529f937788fa2c2224c9bd82&quot; style=&quot;width: 100.0%; height: 100.0%;&quot;&gt;United States: 30382&lt;/div&gt;`)[0];\n",
       "                popup_9f66604d08929a2405f48eed9451c61d.setContent(html_d76b27f1529f937788fa2c2224c9bd82);\n",
       "            \n",
       "        \n",
       "\n",
       "        marker_082bbc3d1465a96b6965011d6259ee13.bindPopup(popup_9f66604d08929a2405f48eed9451c61d)\n",
       "        ;\n",
       "\n",
       "        \n",
       "    \n",
       "    \n",
       "                marker_082bbc3d1465a96b6965011d6259ee13.setIcon(icon_f9261bff24884bf0932d8fbb900cf4e4);\n",
       "            \n",
       "    \n",
       "            var marker_b7079f9dadc409fe04cfd2a20322c5dd = L.marker(\n",
       "                [51.5074, -0.1278],\n",
       "                {\n",
       "}\n",
       "            ).addTo(map_4dcd8ffbc78f3a47758c21f3db1a19bc);\n",
       "        \n",
       "    \n",
       "            var icon_702871090647f664d855cfd1c39e82ca = L.AwesomeMarkers.icon(\n",
       "                {\n",
       "  &quot;markerColor&quot;: &quot;purple&quot;,\n",
       "  &quot;iconColor&quot;: &quot;white&quot;,\n",
       "  &quot;icon&quot;: &quot;info-sign&quot;,\n",
       "  &quot;prefix&quot;: &quot;glyphicon&quot;,\n",
       "  &quot;extraClasses&quot;: &quot;fa-rotate-0&quot;,\n",
       "}\n",
       "            );\n",
       "        \n",
       "    \n",
       "        var popup_5834ae248a2fb116c32cd976f6b45bb1 = L.popup({\n",
       "  &quot;maxWidth&quot;: &quot;100%&quot;,\n",
       "});\n",
       "\n",
       "        \n",
       "            \n",
       "                var html_8ad5f2ddef250e57f56077b8812a5577 = $(`&lt;div id=&quot;html_8ad5f2ddef250e57f56077b8812a5577&quot; style=&quot;width: 100.0%; height: 100.0%;&quot;&gt;United Kingdom: 2537&lt;/div&gt;`)[0];\n",
       "                popup_5834ae248a2fb116c32cd976f6b45bb1.setContent(html_8ad5f2ddef250e57f56077b8812a5577);\n",
       "            \n",
       "        \n",
       "\n",
       "        marker_b7079f9dadc409fe04cfd2a20322c5dd.bindPopup(popup_5834ae248a2fb116c32cd976f6b45bb1)\n",
       "        ;\n",
       "\n",
       "        \n",
       "    \n",
       "    \n",
       "                marker_b7079f9dadc409fe04cfd2a20322c5dd.setIcon(icon_702871090647f664d855cfd1c39e82ca);\n",
       "            \n",
       "    \n",
       "            var marker_cd852f1d54dc459804f11a1ce0e045b5 = L.marker(\n",
       "                [56.1304, -106.3468],\n",
       "                {\n",
       "}\n",
       "            ).addTo(map_4dcd8ffbc78f3a47758c21f3db1a19bc);\n",
       "        \n",
       "    \n",
       "            var icon_3edd9ce8fac40a7f5ca6bbe4547666fb = L.AwesomeMarkers.icon(\n",
       "                {\n",
       "  &quot;markerColor&quot;: &quot;purple&quot;,\n",
       "  &quot;iconColor&quot;: &quot;white&quot;,\n",
       "  &quot;icon&quot;: &quot;info-sign&quot;,\n",
       "  &quot;prefix&quot;: &quot;glyphicon&quot;,\n",
       "  &quot;extraClasses&quot;: &quot;fa-rotate-0&quot;,\n",
       "}\n",
       "            );\n",
       "        \n",
       "    \n",
       "        var popup_7c001b490ac33d7502328cafaa5e8640 = L.popup({\n",
       "  &quot;maxWidth&quot;: &quot;100%&quot;,\n",
       "});\n",
       "\n",
       "        \n",
       "            \n",
       "                var html_85bcc29dec225275159499804cb6dcc5 = $(`&lt;div id=&quot;html_85bcc29dec225275159499804cb6dcc5&quot; style=&quot;width: 100.0%; height: 100.0%;&quot;&gt;Canada: 1727&lt;/div&gt;`)[0];\n",
       "                popup_7c001b490ac33d7502328cafaa5e8640.setContent(html_85bcc29dec225275159499804cb6dcc5);\n",
       "            \n",
       "        \n",
       "\n",
       "        marker_cd852f1d54dc459804f11a1ce0e045b5.bindPopup(popup_7c001b490ac33d7502328cafaa5e8640)\n",
       "        ;\n",
       "\n",
       "        \n",
       "    \n",
       "    \n",
       "                marker_cd852f1d54dc459804f11a1ce0e045b5.setIcon(icon_3edd9ce8fac40a7f5ca6bbe4547666fb);\n",
       "            \n",
       "    \n",
       "            var marker_f2823a1bb7ceddec35f4a80c86dafa12 = L.marker(\n",
       "                [46.6034, 1.8883],\n",
       "                {\n",
       "}\n",
       "            ).addTo(map_4dcd8ffbc78f3a47758c21f3db1a19bc);\n",
       "        \n",
       "    \n",
       "            var icon_211fc2969c5f169e77c85e5ada70db73 = L.AwesomeMarkers.icon(\n",
       "                {\n",
       "  &quot;markerColor&quot;: &quot;purple&quot;,\n",
       "  &quot;iconColor&quot;: &quot;white&quot;,\n",
       "  &quot;icon&quot;: &quot;info-sign&quot;,\n",
       "  &quot;prefix&quot;: &quot;glyphicon&quot;,\n",
       "  &quot;extraClasses&quot;: &quot;fa-rotate-0&quot;,\n",
       "}\n",
       "            );\n",
       "        \n",
       "    \n",
       "        var popup_bcc146e984d8ad321c0319637a98f033 = L.popup({\n",
       "  &quot;maxWidth&quot;: &quot;100%&quot;,\n",
       "});\n",
       "\n",
       "        \n",
       "            \n",
       "                var html_8550fd2899cac1c57a97d08cc44846b5 = $(`&lt;div id=&quot;html_8550fd2899cac1c57a97d08cc44846b5&quot; style=&quot;width: 100.0%; height: 100.0%;&quot;&gt;France: 1322&lt;/div&gt;`)[0];\n",
       "                popup_bcc146e984d8ad321c0319637a98f033.setContent(html_8550fd2899cac1c57a97d08cc44846b5);\n",
       "            \n",
       "        \n",
       "\n",
       "        marker_f2823a1bb7ceddec35f4a80c86dafa12.bindPopup(popup_bcc146e984d8ad321c0319637a98f033)\n",
       "        ;\n",
       "\n",
       "        \n",
       "    \n",
       "    \n",
       "                marker_f2823a1bb7ceddec35f4a80c86dafa12.setIcon(icon_211fc2969c5f169e77c85e5ada70db73);\n",
       "            \n",
       "    \n",
       "            var marker_250cc1d37adbf81484798066805a4398 = L.marker(\n",
       "                [-25.2744, 133.7751],\n",
       "                {\n",
       "}\n",
       "            ).addTo(map_4dcd8ffbc78f3a47758c21f3db1a19bc);\n",
       "        \n",
       "    \n",
       "            var icon_8c4bd965841a1ea5bc71d3baed20dd0d = L.AwesomeMarkers.icon(\n",
       "                {\n",
       "  &quot;markerColor&quot;: &quot;purple&quot;,\n",
       "  &quot;iconColor&quot;: &quot;white&quot;,\n",
       "  &quot;icon&quot;: &quot;info-sign&quot;,\n",
       "  &quot;prefix&quot;: &quot;glyphicon&quot;,\n",
       "  &quot;extraClasses&quot;: &quot;fa-rotate-0&quot;,\n",
       "}\n",
       "            );\n",
       "        \n",
       "    \n",
       "        var popup_b72f254775cffa7a9c820f15cfa86db4 = L.popup({\n",
       "  &quot;maxWidth&quot;: &quot;100%&quot;,\n",
       "});\n",
       "\n",
       "        \n",
       "            \n",
       "                var html_c533a7e0ececc3c32e82e8fa59ab8730 = $(`&lt;div id=&quot;html_c533a7e0ececc3c32e82e8fa59ab8730&quot; style=&quot;width: 100.0%; height: 100.0%;&quot;&gt;Australia: 1259&lt;/div&gt;`)[0];\n",
       "                popup_b72f254775cffa7a9c820f15cfa86db4.setContent(html_c533a7e0ececc3c32e82e8fa59ab8730);\n",
       "            \n",
       "        \n",
       "\n",
       "        marker_250cc1d37adbf81484798066805a4398.bindPopup(popup_b72f254775cffa7a9c820f15cfa86db4)\n",
       "        ;\n",
       "\n",
       "        \n",
       "    \n",
       "    \n",
       "                marker_250cc1d37adbf81484798066805a4398.setIcon(icon_8c4bd965841a1ea5bc71d3baed20dd0d);\n",
       "            \n",
       "    \n",
       "            var marker_3646254f035f25d6ea50cb2df6f88f51 = L.marker(\n",
       "                [20.5937, 78.9629],\n",
       "                {\n",
       "}\n",
       "            ).addTo(map_4dcd8ffbc78f3a47758c21f3db1a19bc);\n",
       "        \n",
       "    \n",
       "            var icon_96a5bc10aca5c2442837785a31a58647 = L.AwesomeMarkers.icon(\n",
       "                {\n",
       "  &quot;markerColor&quot;: &quot;purple&quot;,\n",
       "  &quot;iconColor&quot;: &quot;white&quot;,\n",
       "  &quot;icon&quot;: &quot;info-sign&quot;,\n",
       "  &quot;prefix&quot;: &quot;glyphicon&quot;,\n",
       "  &quot;extraClasses&quot;: &quot;fa-rotate-0&quot;,\n",
       "}\n",
       "            );\n",
       "        \n",
       "    \n",
       "        var popup_da25acebf5eca591e0ff3bb8af49c0f3 = L.popup({\n",
       "  &quot;maxWidth&quot;: &quot;100%&quot;,\n",
       "});\n",
       "\n",
       "        \n",
       "            \n",
       "                var html_849e625a4d7912cdcf3c9fcd5cdd9d36 = $(`&lt;div id=&quot;html_849e625a4d7912cdcf3c9fcd5cdd9d36&quot; style=&quot;width: 100.0%; height: 100.0%;&quot;&gt;India: 1017&lt;/div&gt;`)[0];\n",
       "                popup_da25acebf5eca591e0ff3bb8af49c0f3.setContent(html_849e625a4d7912cdcf3c9fcd5cdd9d36);\n",
       "            \n",
       "        \n",
       "\n",
       "        marker_3646254f035f25d6ea50cb2df6f88f51.bindPopup(popup_da25acebf5eca591e0ff3bb8af49c0f3)\n",
       "        ;\n",
       "\n",
       "        \n",
       "    \n",
       "    \n",
       "                marker_3646254f035f25d6ea50cb2df6f88f51.setIcon(icon_96a5bc10aca5c2442837785a31a58647);\n",
       "            \n",
       "    \n",
       "            var marker_e0647f166070894e5ff10fc308ebab4e = L.marker(\n",
       "                [51.1657, 10.4515],\n",
       "                {\n",
       "}\n",
       "            ).addTo(map_4dcd8ffbc78f3a47758c21f3db1a19bc);\n",
       "        \n",
       "    \n",
       "            var icon_c31b527a1e02ad4cfce96bb236622177 = L.AwesomeMarkers.icon(\n",
       "                {\n",
       "  &quot;markerColor&quot;: &quot;purple&quot;,\n",
       "  &quot;iconColor&quot;: &quot;white&quot;,\n",
       "  &quot;icon&quot;: &quot;info-sign&quot;,\n",
       "  &quot;prefix&quot;: &quot;glyphicon&quot;,\n",
       "  &quot;extraClasses&quot;: &quot;fa-rotate-0&quot;,\n",
       "}\n",
       "            );\n",
       "        \n",
       "    \n",
       "        var popup_087ef9c2e73f40b98d98d4e4f19683c0 = L.popup({\n",
       "  &quot;maxWidth&quot;: &quot;100%&quot;,\n",
       "});\n",
       "\n",
       "        \n",
       "            \n",
       "                var html_2a5f71e9368143ea31ebe9705ae78b51 = $(`&lt;div id=&quot;html_2a5f71e9368143ea31ebe9705ae78b51&quot; style=&quot;width: 100.0%; height: 100.0%;&quot;&gt;Germany: 987&lt;/div&gt;`)[0];\n",
       "                popup_087ef9c2e73f40b98d98d4e4f19683c0.setContent(html_2a5f71e9368143ea31ebe9705ae78b51);\n",
       "            \n",
       "        \n",
       "\n",
       "        marker_e0647f166070894e5ff10fc308ebab4e.bindPopup(popup_087ef9c2e73f40b98d98d4e4f19683c0)\n",
       "        ;\n",
       "\n",
       "        \n",
       "    \n",
       "    \n",
       "                marker_e0647f166070894e5ff10fc308ebab4e.setIcon(icon_c31b527a1e02ad4cfce96bb236622177);\n",
       "            \n",
       "    \n",
       "            var marker_376f30e5dc0bf89a5af6a8a7523e3f04 = L.marker(\n",
       "                [-30.5595, 22.9375],\n",
       "                {\n",
       "}\n",
       "            ).addTo(map_4dcd8ffbc78f3a47758c21f3db1a19bc);\n",
       "        \n",
       "    \n",
       "            var icon_167f58da7f2b6604fd0d52683c272fdf = L.AwesomeMarkers.icon(\n",
       "                {\n",
       "  &quot;markerColor&quot;: &quot;purple&quot;,\n",
       "  &quot;iconColor&quot;: &quot;white&quot;,\n",
       "  &quot;icon&quot;: &quot;info-sign&quot;,\n",
       "  &quot;prefix&quot;: &quot;glyphicon&quot;,\n",
       "  &quot;extraClasses&quot;: &quot;fa-rotate-0&quot;,\n",
       "}\n",
       "            );\n",
       "        \n",
       "    \n",
       "        var popup_bb380998c115bd8efb28e19c8aecc9e6 = L.popup({\n",
       "  &quot;maxWidth&quot;: &quot;100%&quot;,\n",
       "});\n",
       "\n",
       "        \n",
       "            \n",
       "                var html_55b6d5a4a28adb17d60b8f7787839890 = $(`&lt;div id=&quot;html_55b6d5a4a28adb17d60b8f7787839890&quot; style=&quot;width: 100.0%; height: 100.0%;&quot;&gt;South Africa: 493&lt;/div&gt;`)[0];\n",
       "                popup_bb380998c115bd8efb28e19c8aecc9e6.setContent(html_55b6d5a4a28adb17d60b8f7787839890);\n",
       "            \n",
       "        \n",
       "\n",
       "        marker_376f30e5dc0bf89a5af6a8a7523e3f04.bindPopup(popup_bb380998c115bd8efb28e19c8aecc9e6)\n",
       "        ;\n",
       "\n",
       "        \n",
       "    \n",
       "    \n",
       "                marker_376f30e5dc0bf89a5af6a8a7523e3f04.setIcon(icon_167f58da7f2b6604fd0d52683c272fdf);\n",
       "            \n",
       "    \n",
       "            var marker_d4c2d5c97e42d42796c48f622f733a92 = L.marker(\n",
       "                [-40.9006, 174.8869],\n",
       "                {\n",
       "}\n",
       "            ).addTo(map_4dcd8ffbc78f3a47758c21f3db1a19bc);\n",
       "        \n",
       "    \n",
       "            var icon_1d1ccc1a1a8692be0d6035490bb0f81f = L.AwesomeMarkers.icon(\n",
       "                {\n",
       "  &quot;markerColor&quot;: &quot;purple&quot;,\n",
       "  &quot;iconColor&quot;: &quot;white&quot;,\n",
       "  &quot;icon&quot;: &quot;info-sign&quot;,\n",
       "  &quot;prefix&quot;: &quot;glyphicon&quot;,\n",
       "  &quot;extraClasses&quot;: &quot;fa-rotate-0&quot;,\n",
       "}\n",
       "            );\n",
       "        \n",
       "    \n",
       "        var popup_b2732f6928a78c515f82b0c0a6479eca = L.popup({\n",
       "  &quot;maxWidth&quot;: &quot;100%&quot;,\n",
       "});\n",
       "\n",
       "        \n",
       "            \n",
       "                var html_095ce89561c988281678e2300caf803d = $(`&lt;div id=&quot;html_095ce89561c988281678e2300caf803d&quot; style=&quot;width: 100.0%; height: 100.0%;&quot;&gt;New Zealand: 276&lt;/div&gt;`)[0];\n",
       "                popup_b2732f6928a78c515f82b0c0a6479eca.setContent(html_095ce89561c988281678e2300caf803d);\n",
       "            \n",
       "        \n",
       "\n",
       "        marker_d4c2d5c97e42d42796c48f622f733a92.bindPopup(popup_b2732f6928a78c515f82b0c0a6479eca)\n",
       "        ;\n",
       "\n",
       "        \n",
       "    \n",
       "    \n",
       "                marker_d4c2d5c97e42d42796c48f622f733a92.setIcon(icon_1d1ccc1a1a8692be0d6035490bb0f81f);\n",
       "            \n",
       "&lt;/script&gt;\n",
       "&lt;/html&gt;\" style=\"position:absolute;width:100%;height:100%;left:0;top:0;border:none !important;\" allowfullscreen webkitallowfullscreen mozallowfullscreen></iframe></div></div>"
      ],
      "text/plain": [
       "<folium.folium.Map at 0x273344d5750>"
      ]
     },
     "execution_count": 16,
     "metadata": {},
     "output_type": "execute_result"
    }
   ],
   "source": [
    "# Mostrarlo en un mapa con folium\n",
    "\n",
    "# Datos de países y sus valores\n",
    "country_data = {\n",
    "    'United States': 30382,\n",
    "    'United Kingdom': 2537,\n",
    "    'Canada': 1727,\n",
    "    'France': 1322,\n",
    "    'Australia': 1259,\n",
    "    'India': 1017,\n",
    "    'Germany': 987,\n",
    "    'South Africa': 493,\n",
    "    'New Zealand': 276\n",
    "}\n",
    "\n",
    "# Coordenadas aproximadas de los países (latitud, longitud)\n",
    "coordinates = {\n",
    "    'United States': [37.0902, -95.7129],\n",
    "    'United Kingdom': [51.5074, -0.1278],\n",
    "    'Canada': [56.1304, -106.3468],\n",
    "    'France': [46.6034, 1.8883],\n",
    "    'Australia': [-25.2744, 133.7751],\n",
    "    'India': [20.5937, 78.9629],\n",
    "    'Germany': [51.1657, 10.4515],\n",
    "    'South Africa': [-30.5595, 22.9375],\n",
    "    'New Zealand': [-40.9006, 174.8869]\n",
    "}\n",
    "\n",
    "# Crear un mapa centrado en el mundo\n",
    "m = folium.Map(location=[0, 0], zoom_start=2)\n",
    "\n",
    "# Agregar un marcador para cada país\n",
    "for country, value in country_data.items():\n",
    "    lat, lon = coordinates[country]\n",
    "    folium.Marker(\n",
    "        [lat, lon],\n",
    "        popup=f'{country}: {value}',\n",
    "        icon=folium.Icon(color='purple', icon='info-sign')\n",
    "    ).add_to(m)\n",
    "\n",
    "m\n",
    "# Mostrar el mapa\n",
    "# m.save(\"mapa_interactivo.html\")\n",
    "\n",
    "\n"
   ]
  },
  {
   "cell_type": "markdown",
   "metadata": {},
   "source": [
    "## Hipótesis 4\n",
    " -  Los usuarios que provienen de canales de marketing orgánicos tienen mayor probabilidad de conversión"
   ]
  },
  {
   "cell_type": "code",
   "execution_count": 17,
   "metadata": {},
   "outputs": [
    {
     "name": "stdout",
     "output_type": "stream",
     "text": [
      "ATTRIBUTION CHANNEL\n",
      "Organic             11054\n",
      "Google Ads           9801\n",
      "Partner Invite       8882\n",
      "Facebook             6012\n",
      "TikTok               2836\n",
      "Apple Search Ads     1415\n",
      "Name: count, dtype: int64\n"
     ]
    }
   ],
   "source": [
    "# cuantos usuarios y cuantos canales de conversion\n",
    "\n",
    "# Contar la cantidad de usuarios en cada canal de conversión\n",
    "channel_counts = df[\"ATTRIBUTION CHANNEL\"].value_counts()\n",
    "print(channel_counts)\n"
   ]
  },
  {
   "cell_type": "markdown",
   "metadata": {},
   "source": [
    "### Canales de marketing"
   ]
  },
  {
   "cell_type": "code",
   "execution_count": 44,
   "metadata": {},
   "outputs": [
    {
     "data": {
      "image/png": "[encoded data removed]",
      "text/plain": [
       "<Figure size 1000x600 with 1 Axes>"
      ]
     },
     "metadata": {},
     "output_type": "display_data"
    }
   ],
   "source": [
    "# Establecer el tamaño de la figura\n",
    "plt.figure(figsize=(10, 6))\n",
    "\n",
    "# Ordenar los canales por frecuencia\n",
    "orden_canales = df['ATTRIBUTION CHANNEL'].value_counts().index\n",
    "\n",
    "# Crear el gráfico ordenado con hue asignado y legend desactivado\n",
    "sns.countplot(data=df, x='ATTRIBUTION CHANNEL', hue='ATTRIBUTION CHANNEL', \n",
    "              palette='Set2', order=orden_canales, legend=False)\n",
    "\n",
    "# Girar las etiquetas del eje X\n",
    "plt.xticks(rotation=45)\n",
    "\n",
    "# Añadir título y etiquetas\n",
    "plt.title(\"Canales de marketing\", fontsize=16)\n",
    "plt.xlabel(\"Canales\", fontsize=12)\n",
    "plt.ylabel(\"Frecuencia\", fontsize=12)  # Añadir etiqueta al eje Y para mayor claridad\n",
    "\n",
    "plt.show()\n"
   ]
  },
  {
   "cell_type": "code",
   "execution_count": 54,
   "metadata": {},
   "outputs": [],
   "source": [
    "# Calcular la tasa de conversión por canal\n"
   ]
  },
  {
   "cell_type": "markdown",
   "metadata": {},
   "source": [
    "me falta la tasa de conversion (porcentaje)"
   ]
  },
  {
   "cell_type": "code",
   "execution_count": 53,
   "metadata": {},
   "outputs": [
    {
     "name": "stdout",
     "output_type": "stream",
     "text": [
      "ATTRIBUTION CHANNEL\n",
      "Apple Search Ads    0.068551\n",
      "Partner Invite      0.039180\n",
      "Organic             0.033924\n",
      "Facebook            0.033766\n",
      "TikTok              0.032087\n",
      "Google Ads          0.023773\n",
      "Name: TRIAL_CONVERTED, dtype: float64\n"
     ]
    },
    {
     "name": "stderr",
     "output_type": "stream",
     "text": [
      "C:\\Users\\nsara\\AppData\\Local\\Temp\\ipykernel_7620\\74030717.py:11: FutureWarning: \n",
      "\n",
      "Passing `palette` without assigning `hue` is deprecated and will be removed in v0.14.0. Assign the `x` variable to `hue` and set `legend=False` for the same effect.\n",
      "\n",
      "  ax = sns.barplot(x=conversion_rates.index, y=conversion_rates.values, palette='Set2')\n"
     ]
    },
    {
     "data": {
      "image/png": "[encoded data removed]",
      "text/plain": [
       "<Figure size 1000x600 with 1 Axes>"
      ]
     },
     "metadata": {},
     "output_type": "display_data"
    }
   ],
   "source": [
    "# Calcular la tasa de conversión por canal\n",
    "conversion_rates = df.groupby('ATTRIBUTION CHANNEL')['TRIAL_CONVERTED'].mean().sort_values(ascending=False)\n",
    "\n",
    "# Imprimir las tasas de conversión por canal\n",
    "print(conversion_rates)\n",
    "\n",
    "# Establecer el tamaño de la figura\n",
    "plt.figure(figsize=(10, 6))\n",
    "\n",
    "# Crear el gráfico de barras con la tasa de conversión\n",
    "ax = sns.barplot(x=conversion_rates.index, y=conversion_rates.values, palette='Set2')\n",
    "\n",
    "# Girar las etiquetas del eje X\n",
    "plt.xticks(rotation=-45)\n",
    "\n",
    "# Añadir título y etiquetas\n",
    "plt.title(\"Tasa de conversión por canal de marketing\", fontsize=16)\n",
    "plt.xlabel(\"Canales\", fontsize=12)\n",
    "plt.ylabel(\"Tasa de conversión\", fontsize=12)\n",
    "\n",
    "# Añadir los porcentajes sobre las barras\n",
    "for p in ax.patches:\n",
    "    ax.annotate(f'{p.get_height()*100:.1f}%', \n",
    "                (p.get_x() + p.get_width() / 2., p.get_height()), \n",
    "                ha='center', va='center', \n",
    "                fontsize=12, color='black', \n",
    "                xytext=(0, 5), textcoords='offset points')\n",
    "\n",
    "plt.show()\n"
   ]
  },
  {
   "cell_type": "markdown",
   "metadata": {},
   "source": [
    "### Hipótesis 5\n",
    "- Los usuarios que suben una foto (PHOTO_UPLOADED) tienen una tasa de conversión más alta a suscripción de pago que aquellos que no suben una foto"
   ]
  },
  {
   "cell_type": "code",
   "execution_count": 36,
   "metadata": {},
   "outputs": [
    {
     "name": "stdout",
     "output_type": "stream",
     "text": [
      "Total de usuarios que subieron foto de perfil: 24822\n"
     ]
    }
   ],
   "source": [
    "# de esos 40000 cuantos suben fotos. ESo está relacionado? Es importante?\n",
    "\n",
    "# Filtrar usuarios que han subido foto de perfil \n",
    "usuarios_con_foto = df[df['PHOTO_UPLOADED'] == True]  # O 'foto_perfil' == 1 si es un valor binario\n",
    "total_usuarios_con_foto = usuarios_con_foto['USER ID'].nunique()\n",
    "\n",
    "print(f\"Total de usuarios que subieron foto de perfil: {total_usuarios_con_foto}\")\n"
   ]
  },
  {
   "cell_type": "markdown",
   "metadata": {},
   "source": [
    "### Usuarios con foto y usuarios sin foto"
   ]
  },
  {
   "cell_type": "code",
   "execution_count": 37,
   "metadata": {},
   "outputs": [
    {
     "data": {
      "image/png": "[encoded data removed]",
      "text/plain": [
       "<Figure size 800x600 with 1 Axes>"
      ]
     },
     "metadata": {},
     "output_type": "display_data"
    }
   ],
   "source": [
    "# Datos para el gráfico\n",
    "labels = ['Usuarios sin foto', 'Usuarios con foto de perfil']\n",
    "\n",
    "\n",
    "# Crear gráfico de torta (Pie Chart)\n",
    "plt.figure(figsize=(8, 6))\n",
    "plt.pie(conversion_rates, labels=labels, autopct='%1.1f%%', colors=['cyan', 'salmon'], startangle=90)\n",
    "\n",
    "# Añadir título\n",
    "plt.title('Usuarios con Foto de prefil y sin foto')\n",
    "\n",
    "# Mostrar el gráfico\n",
    "plt.show()"
   ]
  },
  {
   "cell_type": "markdown",
   "metadata": {},
   "source": [
    "### Tasa de conversión"
   ]
  },
  {
   "cell_type": "code",
   "execution_count": 38,
   "metadata": {},
   "outputs": [
    {
     "name": "stdout",
     "output_type": "stream",
     "text": [
      "Tasa de conversión total: 3.37%\n",
      "Tasa de conversión para usuarios con foto de perfil: 4.48%\n"
     ]
    }
   ],
   "source": [
    "# Tasa de conversión total (GRAFICAR ESTO)\n",
    "tasa_conversion_total = df['TRIAL_CONVERTED'].mean()  # Promedio de la columna 'conversion', 1 es convertido, 0 no\n",
    "\n",
    "# Tasa de conversión para usuarios que subieron foto de perfil\n",
    "tasa_conversion_con_foto = usuarios_con_foto['TRIAL_CONVERTED'].mean()\n",
    "\n",
    "print(f\"Tasa de conversión total: {tasa_conversion_total * 100:.2f}%\")\n",
    "print(f\"Tasa de conversión para usuarios con foto de perfil: {tasa_conversion_con_foto * 100:.2f}%\")"
   ]
  },
  {
   "cell_type": "code",
   "execution_count": 39,
   "metadata": {},
   "outputs": [
    {
     "data": {
      "image/png": "[encoded data removed]",
      "text/plain": [
       "<Figure size 640x480 with 1 Axes>"
      ]
     },
     "metadata": {},
     "output_type": "display_data"
    }
   ],
   "source": [
    "# Datos en porcentaje\n",
    "categorias = ['Total', 'Con Foto']\n",
    "conversiones = [tasa_conversion_total * 100, tasa_conversion_con_foto * 100]  # Convertimos a porcentaje\n",
    "\n",
    "# Crear la gráfica\n",
    "plt.bar(categorias, conversiones, color=['blue', 'green'])\n",
    "\n",
    "# Añadir etiquetas y título\n",
    "plt.ylabel('Tasa de Conversión (%)')\n",
    "plt.title('Tasa de Conversión Total vs. Con Foto')\n",
    "plt.ylim(0, max(conversiones) + 1)  # Ajustamos el límite del eje Y\n",
    "\n",
    "# Mostrar valores sobre las barras\n",
    "for i, v in enumerate(conversiones):\n",
    "    plt.text(i, v + 0.1, f\"{v:.2f}%\", ha='center', fontsize=12)\n",
    "\n",
    "# Mostrar gráfico\n",
    "plt.show()\n",
    "\n",
    "\n"
   ]
  },
  {
   "cell_type": "markdown",
   "metadata": {},
   "source": [
    "---"
   ]
  },
  {
   "cell_type": "markdown",
   "metadata": {},
   "source": [
    "### Hipótesis 6\n",
    "- Los usuarios que han abierto y respondido una conversación (CONVERSATION_OPENED y CONVERSATION_ANSWERED) tienen una tasa de conversión más alta a una suscripción de pago (TRIAL_CONVERTED) en comparación con aquellos que no han abierto ni respondido conversaciones"
   ]
  },
  {
   "cell_type": "code",
   "execution_count": 42,
   "metadata": {},
   "outputs": [
    {
     "data": {
      "image/png": "[encoded data removed]",
      "text/plain": [
       "<Figure size 800x600 with 1 Axes>"
      ]
     },
     "metadata": {},
     "output_type": "display_data"
    },
    {
     "name": "stdout",
     "output_type": "stream",
     "text": [
      "Tasa de conversión (Abrieron y respondieron): 5.73%\n",
      "Tasa de conversión (No abrieron ni respondieron): 0.22%\n"
     ]
    }
   ],
   "source": [
    "# Filtrar Grupo 1: Usuarios que abrieron y respondieron conversaciones\n",
    "usuarios_activos = df[(df['CONVERSATION_OPENED'] == True) & (df['CONVERSATION_ANSWERED'] == True)]\n",
    "tasa_conversion_activos = usuarios_activos['TRIAL_CONVERTED'].mean()\n",
    "\n",
    "# Filtrar Grupo 2: Usuarios que NO abrieron ni respondieron conversaciones\n",
    "usuarios_inactivos = df[(df['CONVERSATION_OPENED'] == False) & (df['CONVERSATION_ANSWERED'] == False)]\n",
    "tasa_conversion_inactivos = usuarios_inactivos['TRIAL_CONVERTED'].mean()\n",
    "\n",
    "# Crear gráfico de pastel (Pie Chart)\n",
    "labels = ['Abrieron y respondieron', 'No abrieron ni respondieron']\n",
    "conversion_rates = [tasa_conversion_activos, tasa_conversion_inactivos]\n",
    "\n",
    "plt.figure(figsize=(8, 6))\n",
    "plt.pie(conversion_rates, labels=labels, autopct='%1.1f%%', colors=['salmon', 'cyan'], startangle=90)\n",
    "\n",
    "# Añadir título\n",
    "plt.title('Comparativa de usuarios que respondieron a conversaciones')\n",
    "\n",
    "# Mostrar el gráfico\n",
    "plt.show()\n",
    "\n",
    "# Imprimir tasas de conversión en consola\n",
    "print(f\"Tasa de conversión (Abrieron y respondieron): {tasa_conversion_activos * 100:.2f}%\")\n",
    "print(f\"Tasa de conversión (No abrieron ni respondieron): {tasa_conversion_inactivos * 100:.2f}%\")\n",
    "\n"
   ]
  },
  {
   "cell_type": "code",
   "execution_count": null,
   "metadata": {},
   "outputs": [
    {
     "data": {
      "image/png": "[encoded data removed]",
      "text/plain": [
       "<Figure size 800x600 with 1 Axes>"
      ]
     },
     "metadata": {},
     "output_type": "display_data"
    }
   ],
   "source": [
    "\n",
    "# Datos en porcentaje\n",
    "categorias = ['Abrieron y Respondieron', 'No Abrieron ni Respondieron']\n",
    "conversiones = [tasa_conversion_activos * 100, tasa_conversion_inactivos * 100]  # Convertimos a porcentaje\n",
    "\n",
    "# Crear la gráfica\n",
    "plt.figure(figsize=(8, 6))\n",
    "plt.bar(categorias, conversiones, color=['salmon', 'cyan'])\n",
    "\n",
    "# Añadir etiquetas y título\n",
    "plt.ylabel('Tasa de Conversión (%)')\n",
    "plt.title('Tasa de Conversión según Interacción con conversaciones')\n",
    "plt.ylim(0, max(conversiones) + 1)  # Ajustamos el límite del eje Y\n",
    "\n",
    "# Mostrar valores sobre las barras\n",
    "for i, v in enumerate(conversiones):\n",
    "    plt.text(i, v + 0.1, f\"{v:.2f}%\", ha='center', fontsize=12)\n",
    "\n",
    "# Mostrar gráfico\n",
    "plt.show()\n"
   ]
  },
  {
   "cell_type": "markdown",
   "metadata": {},
   "source": [
    "### Hipótesis 7"
   ]
  },
  {
   "cell_type": "code",
   "execution_count": null,
   "metadata": {},
   "outputs": [
    {
     "data": {
      "image/png": "[encoded data removed]",
      "text/plain": [
       "<Figure size 1000x600 with 1 Axes>"
      ]
     },
     "metadata": {},
     "output_type": "display_data"
    }
   ],
   "source": [
    "#  Contar las descargas por día y visualizarlas en un gráfico de barras\n",
    "\n",
    "\n",
    "# Convertir la columna a formato datetime\n",
    "# pd.to_datetime() de pandas convierte los valores de texto a objetos de tipo datetime.\n",
    "df['FIRST SEEN TIMESTAMP'] = pd.to_datetime(df['FIRST SEEN TIMESTAMP'])\n",
    "\n",
    "# Extraer el día de la semana\n",
    "df['DAY_OF_WEEK'] = df['FIRST SEEN TIMESTAMP'].dt.day_name() # te devuelve el día de la semana\n",
    "\n",
    "# Contar las descargas por día de la semana\n",
    "download_counts = df['DAY_OF_WEEK'].value_counts()\n",
    "\n",
    "# Ordenar los días en el orden correcto\n",
    "days_order = [\"Monday\", \"Tuesday\", \"Wednesday\", \"Thursday\", \"Friday\", \"Saturday\", \"Sunday\"]\n",
    "download_counts = download_counts.reindex(days_order) # esto asegura que los días aparezcan en el orden habitual, en lugar de un orden basado en frecuencia.\n",
    "\n",
    "# Crear la gráfica de barras\n",
    "plt.figure(figsize=(10, 6))\n",
    "plt.bar(download_counts.index, download_counts.values, color='skyblue')\n",
    "\n",
    "# Etiquetas y título\n",
    "plt.xlabel(\"Día de la Semana\")\n",
    "plt.ylabel(\"Número de Descargas\")\n",
    "plt.title(\"Descargas de la Aplicación por Día de la Semana\")\n",
    "plt.xticks(rotation=45)\n",
    "plt.grid(axis='y', linestyle='--', alpha=0.7)\n",
    "\n",
    "\n",
    "plt.show()"
   ]
  },
  {
   "cell_type": "code",
   "execution_count": null,
   "metadata": {},
   "outputs": [
    {
     "data": {
      "application/vnd.plotly.v1+json": {
       "config": {
        "plotlyServerURL": "https://plot.ly"
       },
       "data": [
        {
         "hole": 0.5,
         "hoverinfo": "label+percent",
         "labels": [
          "Monday",
          "Tuesday",
          "Wednesday",
          "Thursday",
          "Friday",
          "Saturday",
          "Sunday"
         ],
         "textinfo": "label+percent",
         "type": "pie",
         "values": {
          "bdata": "WhZOFTIWURWyFeQWfxg=",
          "dtype": "i2"
         }
        }
       ],
       "layout": {
        "annotations": [
         {
          "font": {
           "size": 20
          },
          "showarrow": false,
          "text": "DESCARGAS",
          "x": 0.5,
          "y": 1.1
         }
        ],
        "template": {
         "data": {
          "bar": [
           {
            "error_x": {
             "color": "#2a3f5f"
            },
            "error_y": {
             "color": "#2a3f5f"
            },
            "marker": {
             "line": {
              "color": "#E5ECF6",
              "width": 0.5
             },
             "pattern": {
              "fillmode": "overlay",
              "size": 10,
              "solidity": 0.2
             }
            },
            "type": "bar"
           }
          ],
          "barpolar": [
           {
            "marker": {
             "line": {
              "color": "#E5ECF6",
              "width": 0.5
             },
             "pattern": {
              "fillmode": "overlay",
              "size": 10,
              "solidity": 0.2
             }
            },
            "type": "barpolar"
           }
          ],
          "carpet": [
           {
            "aaxis": {
             "endlinecolor": "#2a3f5f",
             "gridcolor": "white",
             "linecolor": "white",
             "minorgridcolor": "white",
             "startlinecolor": "#2a3f5f"
            },
            "baxis": {
             "endlinecolor": "#2a3f5f",
             "gridcolor": "white",
             "linecolor": "white",
             "minorgridcolor": "white",
             "startlinecolor": "#2a3f5f"
            },
            "type": "carpet"
           }
          ],
          "choropleth": [
           {
            "colorbar": {
             "outlinewidth": 0,
             "ticks": ""
            },
            "type": "choropleth"
           }
          ],
          "contour": [
           {
            "colorbar": {
             "outlinewidth": 0,
             "ticks": ""
            },
            "colorscale": [
             [
              0,
              "#0d0887"
             ],
             [
              0.1111111111111111,
              "#46039f"
             ],
             [
              0.2222222222222222,
              "#7201a8"
             ],
             [
              0.3333333333333333,
              "#9c179e"
             ],
             [
              0.4444444444444444,
              "#bd3786"
             ],
             [
              0.5555555555555556,
              "#d8576b"
             ],
             [
              0.6666666666666666,
              "#ed7953"
             ],
             [
              0.7777777777777778,
              "#fb9f3a"
             ],
             [
              0.8888888888888888,
              "#fdca26"
             ],
             [
              1,
              "#f0f921"
             ]
            ],
            "type": "contour"
           }
          ],
          "contourcarpet": [
           {
            "colorbar": {
             "outlinewidth": 0,
             "ticks": ""
            },
            "type": "contourcarpet"
           }
          ],
          "heatmap": [
           {
            "colorbar": {
             "outlinewidth": 0,
             "ticks": ""
            },
            "colorscale": [
             [
              0,
              "#0d0887"
             ],
             [
              0.1111111111111111,
              "#46039f"
             ],
             [
              0.2222222222222222,
              "#7201a8"
             ],
             [
              0.3333333333333333,
              "#9c179e"
             ],
             [
              0.4444444444444444,
              "#bd3786"
             ],
             [
              0.5555555555555556,
              "#d8576b"
             ],
             [
              0.6666666666666666,
              "#ed7953"
             ],
             [
              0.7777777777777778,
              "#fb9f3a"
             ],
             [
              0.8888888888888888,
              "#fdca26"
             ],
             [
              1,
              "#f0f921"
             ]
            ],
            "type": "heatmap"
           }
          ],
          "histogram": [
           {
            "marker": {
             "pattern": {
              "fillmode": "overlay",
              "size": 10,
              "solidity": 0.2
             }
            },
            "type": "histogram"
           }
          ],
          "histogram2d": [
           {
            "colorbar": {
             "outlinewidth": 0,
             "ticks": ""
            },
            "colorscale": [
             [
              0,
              "#0d0887"
             ],
             [
              0.1111111111111111,
              "#46039f"
             ],
             [
              0.2222222222222222,
              "#7201a8"
             ],
             [
              0.3333333333333333,
              "#9c179e"
             ],
             [
              0.4444444444444444,
              "#bd3786"
             ],
             [
              0.5555555555555556,
              "#d8576b"
             ],
             [
              0.6666666666666666,
              "#ed7953"
             ],
             [
              0.7777777777777778,
              "#fb9f3a"
             ],
             [
              0.8888888888888888,
              "#fdca26"
             ],
             [
              1,
              "#f0f921"
             ]
            ],
            "type": "histogram2d"
           }
          ],
          "histogram2dcontour": [
           {
            "colorbar": {
             "outlinewidth": 0,
             "ticks": ""
            },
            "colorscale": [
             [
              0,
              "#0d0887"
             ],
             [
              0.1111111111111111,
              "#46039f"
             ],
             [
              0.2222222222222222,
              "#7201a8"
             ],
             [
              0.3333333333333333,
              "#9c179e"
             ],
             [
              0.4444444444444444,
              "#bd3786"
             ],
             [
              0.5555555555555556,
              "#d8576b"
             ],
             [
              0.6666666666666666,
              "#ed7953"
             ],
             [
              0.7777777777777778,
              "#fb9f3a"
             ],
             [
              0.8888888888888888,
              "#fdca26"
             ],
             [
              1,
              "#f0f921"
             ]
            ],
            "type": "histogram2dcontour"
           }
          ],
          "mesh3d": [
           {
            "colorbar": {
             "outlinewidth": 0,
             "ticks": ""
            },
            "type": "mesh3d"
           }
          ],
          "parcoords": [
           {
            "line": {
             "colorbar": {
              "outlinewidth": 0,
              "ticks": ""
             }
            },
            "type": "parcoords"
           }
          ],
          "pie": [
           {
            "automargin": true,
            "type": "pie"
           }
          ],
          "scatter": [
           {
            "fillpattern": {
             "fillmode": "overlay",
             "size": 10,
             "solidity": 0.2
            },
            "type": "scatter"
           }
          ],
          "scatter3d": [
           {
            "line": {
             "colorbar": {
              "outlinewidth": 0,
              "ticks": ""
             }
            },
            "marker": {
             "colorbar": {
              "outlinewidth": 0,
              "ticks": ""
             }
            },
            "type": "scatter3d"
           }
          ],
          "scattercarpet": [
           {
            "marker": {
             "colorbar": {
              "outlinewidth": 0,
              "ticks": ""
             }
            },
            "type": "scattercarpet"
           }
          ],
          "scattergeo": [
           {
            "marker": {
             "colorbar": {
              "outlinewidth": 0,
              "ticks": ""
             }
            },
            "type": "scattergeo"
           }
          ],
          "scattergl": [
           {
            "marker": {
             "colorbar": {
              "outlinewidth": 0,
              "ticks": ""
             }
            },
            "type": "scattergl"
           }
          ],
          "scattermap": [
           {
            "marker": {
             "colorbar": {
              "outlinewidth": 0,
              "ticks": ""
             }
            },
            "type": "scattermap"
           }
          ],
          "scattermapbox": [
           {
            "marker": {
             "colorbar": {
              "outlinewidth": 0,
              "ticks": ""
             }
            },
            "type": "scattermapbox"
           }
          ],
          "scatterpolar": [
           {
            "marker": {
             "colorbar": {
              "outlinewidth": 0,
              "ticks": ""
             }
            },
            "type": "scatterpolar"
           }
          ],
          "scatterpolargl": [
           {
            "marker": {
             "colorbar": {
              "outlinewidth": 0,
              "ticks": ""
             }
            },
            "type": "scatterpolargl"
           }
          ],
          "scatterternary": [
           {
            "marker": {
             "colorbar": {
              "outlinewidth": 0,
              "ticks": ""
             }
            },
            "type": "scatterternary"
           }
          ],
          "surface": [
           {
            "colorbar": {
             "outlinewidth": 0,
             "ticks": ""
            },
            "colorscale": [
             [
              0,
              "#0d0887"
             ],
             [
              0.1111111111111111,
              "#46039f"
             ],
             [
              0.2222222222222222,
              "#7201a8"
             ],
             [
              0.3333333333333333,
              "#9c179e"
             ],
             [
              0.4444444444444444,
              "#bd3786"
             ],
             [
              0.5555555555555556,
              "#d8576b"
             ],
             [
              0.6666666666666666,
              "#ed7953"
             ],
             [
              0.7777777777777778,
              "#fb9f3a"
             ],
             [
              0.8888888888888888,
              "#fdca26"
             ],
             [
              1,
              "#f0f921"
             ]
            ],
            "type": "surface"
           }
          ],
          "table": [
           {
            "cells": {
             "fill": {
              "color": "#EBF0F8"
             },
             "line": {
              "color": "white"
             }
            },
            "header": {
             "fill": {
              "color": "#C8D4E3"
             },
             "line": {
              "color": "white"
             }
            },
            "type": "table"
           }
          ]
         },
         "layout": {
          "annotationdefaults": {
           "arrowcolor": "#2a3f5f",
           "arrowhead": 0,
           "arrowwidth": 1
          },
          "autotypenumbers": "strict",
          "coloraxis": {
           "colorbar": {
            "outlinewidth": 0,
            "ticks": ""
           }
          },
          "colorscale": {
           "diverging": [
            [
             0,
             "#8e0152"
            ],
            [
             0.1,
             "#c51b7d"
            ],
            [
             0.2,
             "#de77ae"
            ],
            [
             0.3,
             "#f1b6da"
            ],
            [
             0.4,
             "#fde0ef"
            ],
            [
             0.5,
             "#f7f7f7"
            ],
            [
             0.6,
             "#e6f5d0"
            ],
            [
             0.7,
             "#b8e186"
            ],
            [
             0.8,
             "#7fbc41"
            ],
            [
             0.9,
             "#4d9221"
            ],
            [
             1,
             "#276419"
            ]
           ],
           "sequential": [
            [
             0,
             "#0d0887"
            ],
            [
             0.1111111111111111,
             "#46039f"
            ],
            [
             0.2222222222222222,
             "#7201a8"
            ],
            [
             0.3333333333333333,
             "#9c179e"
            ],
            [
             0.4444444444444444,
             "#bd3786"
            ],
            [
             0.5555555555555556,
             "#d8576b"
            ],
            [
             0.6666666666666666,
             "#ed7953"
            ],
            [
             0.7777777777777778,
             "#fb9f3a"
            ],
            [
             0.8888888888888888,
             "#fdca26"
            ],
            [
             1,
             "#f0f921"
            ]
           ],
           "sequentialminus": [
            [
             0,
             "#0d0887"
            ],
            [
             0.1111111111111111,
             "#46039f"
            ],
            [
             0.2222222222222222,
             "#7201a8"
            ],
            [
             0.3333333333333333,
             "#9c179e"
            ],
            [
             0.4444444444444444,
             "#bd3786"
            ],
            [
             0.5555555555555556,
             "#d8576b"
            ],
            [
             0.6666666666666666,
             "#ed7953"
            ],
            [
             0.7777777777777778,
             "#fb9f3a"
            ],
            [
             0.8888888888888888,
             "#fdca26"
            ],
            [
             1,
             "#f0f921"
            ]
           ]
          },
          "colorway": [
           "#636efa",
           "#EF553B",
           "#00cc96",
           "#ab63fa",
           "#FFA15A",
           "#19d3f3",
           "#FF6692",
           "#B6E880",
           "#FF97FF",
           "#FECB52"
          ],
          "font": {
           "color": "#2a3f5f"
          },
          "geo": {
           "bgcolor": "white",
           "lakecolor": "white",
           "landcolor": "#E5ECF6",
           "showlakes": true,
           "showland": true,
           "subunitcolor": "white"
          },
          "hoverlabel": {
           "align": "left"
          },
          "hovermode": "closest",
          "mapbox": {
           "style": "light"
          },
          "paper_bgcolor": "white",
          "plot_bgcolor": "#E5ECF6",
          "polar": {
           "angularaxis": {
            "gridcolor": "white",
            "linecolor": "white",
            "ticks": ""
           },
           "bgcolor": "#E5ECF6",
           "radialaxis": {
            "gridcolor": "white",
            "linecolor": "white",
            "ticks": ""
           }
          },
          "scene": {
           "xaxis": {
            "backgroundcolor": "#E5ECF6",
            "gridcolor": "white",
            "gridwidth": 2,
            "linecolor": "white",
            "showbackground": true,
            "ticks": "",
            "zerolinecolor": "white"
           },
           "yaxis": {
            "backgroundcolor": "#E5ECF6",
            "gridcolor": "white",
            "gridwidth": 2,
            "linecolor": "white",
            "showbackground": true,
            "ticks": "",
            "zerolinecolor": "white"
           },
           "zaxis": {
            "backgroundcolor": "#E5ECF6",
            "gridcolor": "white",
            "gridwidth": 2,
            "linecolor": "white",
            "showbackground": true,
            "ticks": "",
            "zerolinecolor": "white"
           }
          },
          "shapedefaults": {
           "line": {
            "color": "#2a3f5f"
           }
          },
          "ternary": {
           "aaxis": {
            "gridcolor": "white",
            "linecolor": "white",
            "ticks": ""
           },
           "baxis": {
            "gridcolor": "white",
            "linecolor": "white",
            "ticks": ""
           },
           "bgcolor": "#E5ECF6",
           "caxis": {
            "gridcolor": "white",
            "linecolor": "white",
            "ticks": ""
           }
          },
          "title": {
           "x": 0.05
          },
          "xaxis": {
           "automargin": true,
           "gridcolor": "white",
           "linecolor": "white",
           "ticks": "",
           "title": {
            "standoff": 15
           },
           "zerolinecolor": "white",
           "zerolinewidth": 2
          },
          "yaxis": {
           "automargin": true,
           "gridcolor": "white",
           "linecolor": "white",
           "ticks": "",
           "title": {
            "standoff": 15
           },
           "zerolinecolor": "white",
           "zerolinewidth": 2
          }
         }
        },
        "title": {
         "text": "DISTRIBUCIÓN DE DESCARGAS POR DÍA DE LA SEMANA"
        }
       }
      }
     },
     "metadata": {},
     "output_type": "display_data"
    }
   ],
   "source": [
    "import pandas as pd\n",
    "import plotly.graph_objects as go\n",
    "import matplotlib.pyplot as plt\n",
    "\n",
    "# Convertir la columna a datetime\n",
    "df['FIRST SEEN TIMESTAMP'] = pd.to_datetime(df['FIRST SEEN TIMESTAMP'])\n",
    "\n",
    "# Extraer el día de la semana\n",
    "df['DAY_OF_WEEK'] = df['FIRST SEEN TIMESTAMP'].dt.day_name()\n",
    "\n",
    "# Contar descargas por día\n",
    "download_counts = df['DAY_OF_WEEK'].value_counts()\n",
    "\n",
    "# Ordenar los días correctamente\n",
    "days_order = [\"Monday\", \"Tuesday\", \"Wednesday\", \"Thursday\", \"Friday\", \"Saturday\", \"Sunday\"]\n",
    "download_counts = download_counts.reindex(days_order).dropna()\n",
    "\n",
    "# Crear pie chart con Plotly\n",
    "fig = go.Figure(data=[go.Pie(\n",
    "    labels=download_counts.index,\n",
    "    values=download_counts.values,\n",
    "    hole=0.5,  # Para hacer un donut chart (0.3 es el tamaño del agujero)\n",
    "    hoverinfo=\"label+percent\",\n",
    "    textinfo=\"label+percent\"\n",
    ")])\n",
    "\n",
    "fig.update_layout(\n",
    "    title=\"DISTRIBUCIÓN DE DESCARGAS POR DÍA DE LA SEMANA\",\n",
    "    annotations=[{\n",
    "        \"font\": {\"size\": 20},\n",
    "        \"showarrow\": False,\n",
    "        \"text\": \"DESCARGAS\",\n",
    "        \"x\": 0.5,\n",
    "        \"y\": 1.1\n",
    "    }]\n",
    ")\n",
    "\n",
    "fig.show()\n"
   ]
  },
  {
   "cell_type": "markdown",
   "metadata": {},
   "source": [
    "### Hipótesis\n",
    "- Análisis de los usuarios según su país de procedencia y los canales que utilizan para acceder a la aplicación."
   ]
  },
  {
   "cell_type": "code",
   "execution_count": null,
   "metadata": {},
   "outputs": [
    {
     "data": {
      "image/png": "[encoded data removed]",
      "text/plain": [
       "<Figure size 1400x600 with 1 Axes>"
      ]
     },
     "metadata": {},
     "output_type": "display_data"
    }
   ],
   "source": [
    "# Filtrar por pais y canal de distribución\n",
    "\n",
    "\n",
    "# Agrupar datos: Número de usuarios por país y canal\n",
    "usuarios_por_pais_canal = df.groupby([\"COUNTRY\", \"ATTRIBUTION CHANNEL\"]).size().reset_index(name=\"COUNT\")\n",
    "\n",
    "# Gráfico de barras agrupado\n",
    "plt.figure(figsize=(14,6))\n",
    "sns.barplot(x=\"COUNTRY\", y=\"COUNT\", hue=\"ATTRIBUTION CHANNEL\", data=usuarios_por_pais_canal, palette=\"magma\")\n",
    "\n",
    "# Ajustes del gráfico\n",
    "plt.xticks(rotation=45, ha=\"right\", fontsize=12)\n",
    "plt.ylabel(\"Cantidad de Usuarios\", fontsize=14)\n",
    "plt.xlabel(\"País\", fontsize=14)\n",
    "plt.title(\"Usuarios por País y Canal de Acceso\", fontsize=16)\n",
    "plt.legend(title=\"Canal de Acceso\", fontsize=12)\n",
    "\n",
    "# Mostrar gráfico\n",
    "plt.show()\n"
   ]
  }
 ],
 "metadata": {
  "kernelspec": {
   "display_name": "Python 3",
   "language": "python",
   "name": "python3"
  },
  "language_info": {
   "codemirror_mode": {
    "name": "ipython",
    "version": 3
   },
   "file_extension": ".py",
   "mimetype": "text/x-python",
   "name": "python",
   "nbconvert_exporter": "python",
   "pygments_lexer": "ipython3",
   "version": "3.11.9"
  },
  "orig_nbformat": 4
 },
 "nbformat": 4,
 "nbformat_minor": 2
}
